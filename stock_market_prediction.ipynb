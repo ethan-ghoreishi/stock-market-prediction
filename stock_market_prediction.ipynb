{
  "nbformat": 4,
  "nbformat_minor": 0,
  "metadata": {
    "kernelspec": {
      "display_name": "Python 3",
      "language": "python",
      "name": "python3"
    },
    "language_info": {
      "codemirror_mode": {
        "name": "ipython",
        "version": 3
      },
      "file_extension": ".py",
      "mimetype": "text/x-python",
      "name": "python",
      "nbconvert_exporter": "python",
      "pygments_lexer": "ipython3",
      "version": "3.5.1"
    },
    "colab": {
      "name": "stock_market_prediction.ipynb",
      "provenance": [],
      "include_colab_link": true
    }
  },
  "cells": [
    {
      "cell_type": "markdown",
      "metadata": {
        "id": "view-in-github",
        "colab_type": "text"
      },
      "source": [
        "<a href=\"https://colab.research.google.com/github/ethan-ghoreishi/stock-market-prediction/blob/master/stock_market_prediction.ipynb\" target=\"_parent\"><img src=\"https://colab.research.google.com/assets/colab-badge.svg\" alt=\"Open In Colab\"/></a>"
      ]
    },
    {
      "cell_type": "code",
      "metadata": {
        "id": "QGisGtetYXTk",
        "colab_type": "code",
        "colab": {}
      },
      "source": [
        "import pandas as pd\n",
        "from datetime import datetime\n",
        "from datetime import datetime"
      ],
      "execution_count": 0,
      "outputs": []
    },
    {
      "cell_type": "code",
      "metadata": {
        "id": "HH7mFT6AYXTs",
        "colab_type": "code",
        "colab": {},
        "outputId": "620f5231-187a-4bfb-e853-9d8364598d66"
      },
      "source": [
        "# Read the data and change the date column to datetime objects\n",
        "df = pd.read_csv(\"sphist.csv\")\n",
        "df[\"Date\"] = pd.to_datetime(df[\"Date\"])\n",
        "# Sort by date from oldest to newest\n",
        "df.sort_values(\"Date\", ascending=True, inplace=True)\n",
        "\n",
        "df.head()\n",
        "# Another approach for changing the date column\n",
        "# def convert_date(x):\n",
        "#     return dt.strptime(x, \"%Y-%M-%d\")\n",
        "\n",
        "# strp_date = df[\"Date\"].apply(convert_date)"
      ],
      "execution_count": 0,
      "outputs": [
        {
          "output_type": "execute_result",
          "data": {
            "text/html": [
              "<div>\n",
              "<style scoped>\n",
              "    .dataframe tbody tr th:only-of-type {\n",
              "        vertical-align: middle;\n",
              "    }\n",
              "\n",
              "    .dataframe tbody tr th {\n",
              "        vertical-align: top;\n",
              "    }\n",
              "\n",
              "    .dataframe thead th {\n",
              "        text-align: right;\n",
              "    }\n",
              "</style>\n",
              "<table border=\"1\" class=\"dataframe\">\n",
              "  <thead>\n",
              "    <tr style=\"text-align: right;\">\n",
              "      <th></th>\n",
              "      <th>Date</th>\n",
              "      <th>Open</th>\n",
              "      <th>High</th>\n",
              "      <th>Low</th>\n",
              "      <th>Close</th>\n",
              "      <th>Volume</th>\n",
              "      <th>Adj Close</th>\n",
              "    </tr>\n",
              "  </thead>\n",
              "  <tbody>\n",
              "    <tr>\n",
              "      <th>16589</th>\n",
              "      <td>1950-01-03</td>\n",
              "      <td>16.66</td>\n",
              "      <td>16.66</td>\n",
              "      <td>16.66</td>\n",
              "      <td>16.66</td>\n",
              "      <td>1260000.0</td>\n",
              "      <td>16.66</td>\n",
              "    </tr>\n",
              "    <tr>\n",
              "      <th>16588</th>\n",
              "      <td>1950-01-04</td>\n",
              "      <td>16.85</td>\n",
              "      <td>16.85</td>\n",
              "      <td>16.85</td>\n",
              "      <td>16.85</td>\n",
              "      <td>1890000.0</td>\n",
              "      <td>16.85</td>\n",
              "    </tr>\n",
              "    <tr>\n",
              "      <th>16587</th>\n",
              "      <td>1950-01-05</td>\n",
              "      <td>16.93</td>\n",
              "      <td>16.93</td>\n",
              "      <td>16.93</td>\n",
              "      <td>16.93</td>\n",
              "      <td>2550000.0</td>\n",
              "      <td>16.93</td>\n",
              "    </tr>\n",
              "    <tr>\n",
              "      <th>16586</th>\n",
              "      <td>1950-01-06</td>\n",
              "      <td>16.98</td>\n",
              "      <td>16.98</td>\n",
              "      <td>16.98</td>\n",
              "      <td>16.98</td>\n",
              "      <td>2010000.0</td>\n",
              "      <td>16.98</td>\n",
              "    </tr>\n",
              "    <tr>\n",
              "      <th>16585</th>\n",
              "      <td>1950-01-09</td>\n",
              "      <td>17.08</td>\n",
              "      <td>17.08</td>\n",
              "      <td>17.08</td>\n",
              "      <td>17.08</td>\n",
              "      <td>2520000.0</td>\n",
              "      <td>17.08</td>\n",
              "    </tr>\n",
              "  </tbody>\n",
              "</table>\n",
              "</div>"
            ],
            "text/plain": [
              "            Date   Open   High    Low  Close     Volume  Adj Close\n",
              "16589 1950-01-03  16.66  16.66  16.66  16.66  1260000.0      16.66\n",
              "16588 1950-01-04  16.85  16.85  16.85  16.85  1890000.0      16.85\n",
              "16587 1950-01-05  16.93  16.93  16.93  16.93  2550000.0      16.93\n",
              "16586 1950-01-06  16.98  16.98  16.98  16.98  2010000.0      16.98\n",
              "16585 1950-01-09  17.08  17.08  17.08  17.08  2520000.0      17.08"
            ]
          },
          "metadata": {
            "tags": []
          },
          "execution_count": 54
        }
      ]
    },
    {
      "cell_type": "code",
      "metadata": {
        "id": "m4FmBCDdYXTx",
        "colab_type": "code",
        "colab": {},
        "outputId": "0e49c071-56ec-4b4a-ff51-6435147aa2ac"
      },
      "source": [
        "# Start computing indicators on 1951-01-03 as some indicators require year of historical data to compute\n",
        "start_date = df[\"Date\"] >= datetime(year=1951, month=1, day=3)\n",
        "\n",
        "# def generate_indicators_avg(col, window):\n",
        "#     return df[col].rolling(window).mean().shift(-1)\n",
        "\n",
        "# def generate_indicators_std(col, window):\n",
        "#     df[col].rolling(window).std().shift(-1)\n",
        "\n",
        "# Add indicators that could be helpful for machine learning\n",
        "# Rolling mean will use the current day's price, therefore reindex (shift(-1))\n",
        "# Average price from the past 5 days\n",
        "# df[\"Mean 5 Days Open\"] = df[\"Open\"].rolling(5).mean().shift(-1)\n",
        "df[\"Mean 5 Days Close\"] = df[\"Close\"].rolling(5).mean().shift(-1)\n",
        "df[\"Mean 5 Days Volume\"] = df[\"Volume\"].rolling(5).mean().shift(-1)\n",
        "# df[\"Mean 30 Days Open\"] = df[\"Open\"].rolling(30).mean().shift(-1)\n",
        "# df[\"Mean 30 Days Close\"] = df[\"Close\"].rolling(30).mean().shift(-1)\n",
        "df[\"Mean 30 Days Volume\"] = df[\"Volume\"].rolling(30).mean().shift(-1)\n",
        "# df[\"Mean 365 Days Open\"] = df[\"Open\"].rolling(365).mean().shift(-1)\n",
        "df[\"Mean 365 Days Close\"] = df[\"Close\"].rolling(365).mean().shift(-1)\n",
        "df[\"Mean 365 Days Volume\"] = df[\"Volume\"].rolling(365).mean().shift(-1)\n",
        "# df[\"Std 30 Days Open\"] = df[\"Open\"].rolling(30).std().shift(-1)\n",
        "df[\"Std 30 Days Close\"] = df[\"Close\"].rolling(30).std().shift(-1)\n",
        "df[\"Std 30 Days Volume\"] = df[\"Volume\"].rolling(30).std().shift(-1)\n",
        "df[\"Mean 5/30 Days High\"] = (df[\"High\"].rolling(5).mean()/df[start_date][\"High\"].rolling(30).mean()).shift(-1)\n",
        "df[\"Mean 5/30 Days Low\"] = (df[\"Low\"].rolling(5).mean()/df[start_date][\"Low\"].rolling(30).mean()).shift(-1)\n",
        "df[\"Mean 5/30 Days Volume\"] = (df[\"Volume\"].rolling(5).mean()/df[start_date][\"Volume\"].rolling(30).mean()).shift(-1)\n",
        "\n",
        "# Add the year component of the date\n",
        "df[\"year_label\"] = df[\"Date\"].apply(lambda x: datetime.strftime(x, \"%Y\"))\n",
        "df[\"month_label\"] = df[\"Date\"].apply(lambda x: int(datetime.strftime(x, \"%m\")))\n",
        "df[\"day_label\"] = df[\"Date\"].apply(lambda x: int(datetime.strftime(x, \"%d\")))\n",
        "\n",
        "# Remove any rows from the DataFrame that fall before 1951-01-03\n",
        "df = df[start_date]\n",
        "df.dropna(axis=0, inplace=True)\n",
        "df.head()"
      ],
      "execution_count": 0,
      "outputs": [
        {
          "output_type": "execute_result",
          "data": {
            "text/html": [
              "<div>\n",
              "<style scoped>\n",
              "    .dataframe tbody tr th:only-of-type {\n",
              "        vertical-align: middle;\n",
              "    }\n",
              "\n",
              "    .dataframe tbody tr th {\n",
              "        vertical-align: top;\n",
              "    }\n",
              "\n",
              "    .dataframe thead th {\n",
              "        text-align: right;\n",
              "    }\n",
              "</style>\n",
              "<table border=\"1\" class=\"dataframe\">\n",
              "  <thead>\n",
              "    <tr style=\"text-align: right;\">\n",
              "      <th></th>\n",
              "      <th>Date</th>\n",
              "      <th>Open</th>\n",
              "      <th>High</th>\n",
              "      <th>Low</th>\n",
              "      <th>Close</th>\n",
              "      <th>Volume</th>\n",
              "      <th>Adj Close</th>\n",
              "      <th>Mean 5 Days Close</th>\n",
              "      <th>Mean 5 Days Volume</th>\n",
              "      <th>Mean 30 Days Volume</th>\n",
              "      <th>Mean 365 Days Close</th>\n",
              "      <th>Mean 365 Days Volume</th>\n",
              "      <th>Std 30 Days Close</th>\n",
              "      <th>Std 30 Days Volume</th>\n",
              "      <th>Mean 5/30 Days High</th>\n",
              "      <th>Mean 5/30 Days Low</th>\n",
              "      <th>Mean 5/30 Days Volume</th>\n",
              "      <th>year_label</th>\n",
              "      <th>month_label</th>\n",
              "      <th>day_label</th>\n",
              "    </tr>\n",
              "  </thead>\n",
              "  <tbody>\n",
              "    <tr>\n",
              "      <th>16226</th>\n",
              "      <td>1951-06-15</td>\n",
              "      <td>22.040001</td>\n",
              "      <td>22.040001</td>\n",
              "      <td>22.040001</td>\n",
              "      <td>22.040001</td>\n",
              "      <td>1370000.0</td>\n",
              "      <td>22.040001</td>\n",
              "      <td>21.800</td>\n",
              "      <td>1196000.0</td>\n",
              "      <td>1.707667e+06</td>\n",
              "      <td>19.447726</td>\n",
              "      <td>1.989479e+06</td>\n",
              "      <td>0.473595</td>\n",
              "      <td>1.566790e+06</td>\n",
              "      <td>0.993058</td>\n",
              "      <td>0.993058</td>\n",
              "      <td>0.655329</td>\n",
              "      <td>1951</td>\n",
              "      <td>6</td>\n",
              "      <td>15</td>\n",
              "    </tr>\n",
              "    <tr>\n",
              "      <th>16225</th>\n",
              "      <td>1951-06-18</td>\n",
              "      <td>22.049999</td>\n",
              "      <td>22.049999</td>\n",
              "      <td>22.049999</td>\n",
              "      <td>22.049999</td>\n",
              "      <td>1050000.0</td>\n",
              "      <td>22.049999</td>\n",
              "      <td>21.900</td>\n",
              "      <td>1176000.0</td>\n",
              "      <td>1.691667e+06</td>\n",
              "      <td>19.462411</td>\n",
              "      <td>1.989041e+06</td>\n",
              "      <td>0.444648</td>\n",
              "      <td>1.570585e+06</td>\n",
              "      <td>0.999294</td>\n",
              "      <td>0.999294</td>\n",
              "      <td>0.706491</td>\n",
              "      <td>1951</td>\n",
              "      <td>6</td>\n",
              "      <td>18</td>\n",
              "    </tr>\n",
              "    <tr>\n",
              "      <th>16224</th>\n",
              "      <td>1951-06-19</td>\n",
              "      <td>22.020000</td>\n",
              "      <td>22.020000</td>\n",
              "      <td>22.020000</td>\n",
              "      <td>22.020000</td>\n",
              "      <td>1100000.0</td>\n",
              "      <td>22.020000</td>\n",
              "      <td>21.972</td>\n",
              "      <td>1188000.0</td>\n",
              "      <td>1.675667e+06</td>\n",
              "      <td>19.476274</td>\n",
              "      <td>1.986932e+06</td>\n",
              "      <td>0.411452</td>\n",
              "      <td>1.573993e+06</td>\n",
              "      <td>1.004454</td>\n",
              "      <td>1.004454</td>\n",
              "      <td>0.700371</td>\n",
              "      <td>1951</td>\n",
              "      <td>6</td>\n",
              "      <td>19</td>\n",
              "    </tr>\n",
              "    <tr>\n",
              "      <th>16223</th>\n",
              "      <td>1951-06-20</td>\n",
              "      <td>21.910000</td>\n",
              "      <td>21.910000</td>\n",
              "      <td>21.910000</td>\n",
              "      <td>21.910000</td>\n",
              "      <td>1120000.0</td>\n",
              "      <td>21.910000</td>\n",
              "      <td>21.960</td>\n",
              "      <td>1148000.0</td>\n",
              "      <td>1.647000e+06</td>\n",
              "      <td>19.489562</td>\n",
              "      <td>1.982959e+06</td>\n",
              "      <td>0.368514</td>\n",
              "      <td>1.576465e+06</td>\n",
              "      <td>1.010008</td>\n",
              "      <td>1.010008</td>\n",
              "      <td>0.695172</td>\n",
              "      <td>1951</td>\n",
              "      <td>6</td>\n",
              "      <td>20</td>\n",
              "    </tr>\n",
              "    <tr>\n",
              "      <th>16222</th>\n",
              "      <td>1951-06-21</td>\n",
              "      <td>21.780001</td>\n",
              "      <td>21.780001</td>\n",
              "      <td>21.780001</td>\n",
              "      <td>21.780001</td>\n",
              "      <td>1100000.0</td>\n",
              "      <td>21.780001</td>\n",
              "      <td>21.862</td>\n",
              "      <td>1142000.0</td>\n",
              "      <td>1.636333e+06</td>\n",
              "      <td>19.502082</td>\n",
              "      <td>1.981123e+06</td>\n",
              "      <td>0.329130</td>\n",
              "      <td>1.577456e+06</td>\n",
              "      <td>1.014420</td>\n",
              "      <td>1.014420</td>\n",
              "      <td>0.708972</td>\n",
              "      <td>1951</td>\n",
              "      <td>6</td>\n",
              "      <td>21</td>\n",
              "    </tr>\n",
              "  </tbody>\n",
              "</table>\n",
              "</div>"
            ],
            "text/plain": [
              "            Date       Open       High        Low      Close     Volume  \\\n",
              "16226 1951-06-15  22.040001  22.040001  22.040001  22.040001  1370000.0   \n",
              "16225 1951-06-18  22.049999  22.049999  22.049999  22.049999  1050000.0   \n",
              "16224 1951-06-19  22.020000  22.020000  22.020000  22.020000  1100000.0   \n",
              "16223 1951-06-20  21.910000  21.910000  21.910000  21.910000  1120000.0   \n",
              "16222 1951-06-21  21.780001  21.780001  21.780001  21.780001  1100000.0   \n",
              "\n",
              "       Adj Close  Mean 5 Days Close  Mean 5 Days Volume  Mean 30 Days Volume  \\\n",
              "16226  22.040001             21.800           1196000.0         1.707667e+06   \n",
              "16225  22.049999             21.900           1176000.0         1.691667e+06   \n",
              "16224  22.020000             21.972           1188000.0         1.675667e+06   \n",
              "16223  21.910000             21.960           1148000.0         1.647000e+06   \n",
              "16222  21.780001             21.862           1142000.0         1.636333e+06   \n",
              "\n",
              "       Mean 365 Days Close  Mean 365 Days Volume  Std 30 Days Close  \\\n",
              "16226            19.447726          1.989479e+06           0.473595   \n",
              "16225            19.462411          1.989041e+06           0.444648   \n",
              "16224            19.476274          1.986932e+06           0.411452   \n",
              "16223            19.489562          1.982959e+06           0.368514   \n",
              "16222            19.502082          1.981123e+06           0.329130   \n",
              "\n",
              "       Std 30 Days Volume  Mean 5/30 Days High  Mean 5/30 Days Low  \\\n",
              "16226        1.566790e+06             0.993058            0.993058   \n",
              "16225        1.570585e+06             0.999294            0.999294   \n",
              "16224        1.573993e+06             1.004454            1.004454   \n",
              "16223        1.576465e+06             1.010008            1.010008   \n",
              "16222        1.577456e+06             1.014420            1.014420   \n",
              "\n",
              "       Mean 5/30 Days Volume year_label  month_label  day_label  \n",
              "16226               0.655329       1951            6         15  \n",
              "16225               0.706491       1951            6         18  \n",
              "16224               0.700371       1951            6         19  \n",
              "16223               0.695172       1951            6         20  \n",
              "16222               0.708972       1951            6         21  "
            ]
          },
          "metadata": {
            "tags": []
          },
          "execution_count": 55
        }
      ]
    },
    {
      "cell_type": "code",
      "metadata": {
        "id": "GFz32szUYXT0",
        "colab_type": "code",
        "colab": {},
        "outputId": "6da628ea-5458-4196-80df-853fa28ba750"
      },
      "source": [
        "close_corr = df.corr()[\"Close\"].abs().sort_values(ascending=False)\n",
        "strong_corr = list(close_corr[close_corr >= .3].index)\n",
        "for i in [\"High\", \"Low\", \"Open\", \"Volume\", \"Adj Close\"]:\n",
        "    strong_corr.remove(i)\n",
        "close_corr"
      ],
      "execution_count": 0,
      "outputs": [
        {
          "output_type": "execute_result",
          "data": {
            "text/plain": [
              "Close                    1.000000\n",
              "Adj Close                1.000000\n",
              "Low                      0.999956\n",
              "High                     0.999953\n",
              "Mean 5 Days Close        0.999939\n",
              "Open                     0.999900\n",
              "Mean 365 Days Close      0.989067\n",
              "Mean 30 Days Volume      0.787100\n",
              "Mean 365 Days Volume     0.784949\n",
              "Mean 5 Days Volume       0.781133\n",
              "Std 30 Days Close        0.778487\n",
              "Volume                   0.772748\n",
              "Std 30 Days Volume       0.684765\n",
              "Mean 5/30 Days Low       0.009803\n",
              "Mean 5/30 Days High      0.009490\n",
              "month_label              0.005422\n",
              "Mean 5/30 Days Volume    0.005139\n",
              "day_label                0.001359\n",
              "Name: Close, dtype: float64"
            ]
          },
          "metadata": {
            "tags": []
          },
          "execution_count": 56
        }
      ]
    },
    {
      "cell_type": "code",
      "metadata": {
        "id": "Zl1JD8iaYXT5",
        "colab_type": "code",
        "colab": {},
        "outputId": "ff6548aa-34ad-448a-db27-e3fb3e244ff6"
      },
      "source": [
        "import seaborn as sns\n",
        "%matplotlib inline\n",
        "\n",
        "sns.heatmap(df[strong_corr].corr())"
      ],
      "execution_count": 0,
      "outputs": [
        {
          "output_type": "execute_result",
          "data": {
            "text/plain": [
              "<matplotlib.axes._subplots.AxesSubplot at 0x10e891f28>"
            ]
          },
          "metadata": {
            "tags": []
          },
          "execution_count": 57
        },
        {
          "output_type": "display_data",
          "data": {
            "image/png": "[encoded data removed]",
            "text/plain": [
              "<matplotlib.figure.Figure at 0x10e7cfc88>"
            ]
          },
          "metadata": {
            "tags": []
          }
        }
      ]
    },
    {
      "cell_type": "code",
      "metadata": {
        "id": "S8Q2OC3TYXT9",
        "colab_type": "code",
        "colab": {}
      },
      "source": [
        "train_end_date = df[\"Date\"] < datetime(year=2013, month=1, day=1)\n",
        "test_start_date = df[\"Date\"] >= datetime(year=2013, month=1, day=1)\n",
        "\n",
        "train = df[train_end_date]\n",
        "test = df[test_start_date]\n",
        "train_target = train[\"Close\"]\n",
        "test_target = test[\"Close\"]\n",
        "\n",
        "# remove columns that inject future knowledge\n",
        "predictors = list(train.columns)\n",
        "future_knowledge_cols = [\"Close\", \"High\", \"Low\", \"Open\", \"Volume\", \"Adj Close\", \"Date\"]\n",
        "for col in future_knowledge_cols:\n",
        "    predictors.remove(col)"
      ],
      "execution_count": 0,
      "outputs": []
    },
    {
      "cell_type": "markdown",
      "metadata": {
        "id": "qhlcKRn0YXUA",
        "colab_type": "text"
      },
      "source": [
        "### Error Metric\n",
        "Use MAE to show how \"close\" we are to the price in intuitive terms"
      ]
    },
    {
      "cell_type": "code",
      "metadata": {
        "id": "i2r-8SbFYXUB",
        "colab_type": "code",
        "colab": {},
        "outputId": "97746d39-1aab-4616-ab25-a9ca42cef06b"
      },
      "source": [
        "from sklearn.linear_model import LinearRegression\n",
        "from sklearn.metrics import mean_absolute_error\n",
        "from sklearn.metrics import mean_squared_error\n",
        "\n",
        "lr = LinearRegression()\n",
        "lr.fit(train[predictors], train_target)\n",
        "lr_train_predictions = lr.predict(train[predictors])\n",
        "lr_test_predictions = lr.predict(test[predictors])"
      ],
      "execution_count": 0,
      "outputs": [
        {
          "output_type": "stream",
          "text": [
            "/Library/Frameworks/Python.framework/Versions/3.5/lib/python3.5/site-packages/scipy/linalg/basic.py:1226: RuntimeWarning: internal gelsd driver lwork query error, required iwork dimension not returned. This is likely the result of LAPACK bug 0038, fixed in LAPACK 3.2.2 (released July 21, 2010). Falling back to 'gelss' driver.\n",
            "  warnings.warn(mesg, RuntimeWarning)\n"
          ],
          "name": "stderr"
        }
      ]
    },
    {
      "cell_type": "code",
      "metadata": {
        "id": "ClrCAfjhYXUE",
        "colab_type": "code",
        "colab": {},
        "outputId": "96b81d24-b261-4aa0-fd5b-d057dfd25f90"
      },
      "source": [
        "print(mean_absolute_error(train_target, lr_train_predictions))\n",
        "print(mean_absolute_error(test_target, lr_test_predictions))"
      ],
      "execution_count": 0,
      "outputs": [
        {
          "output_type": "stream",
          "text": [
            "2.273771072337667\n",
            "6.955570908236561\n"
          ],
          "name": "stdout"
        }
      ]
    },
    {
      "cell_type": "code",
      "metadata": {
        "id": "Cyx5RkGQYXUJ",
        "colab_type": "code",
        "colab": {}
      },
      "source": [
        "from sklearn.ensemble import RandomForestRegressor\n",
        "\n",
        "rf = RandomForestRegressor(min_samples_leaf=5)\n",
        "rf.fit(train[predictors], train_target)\n",
        "rf_train_predictions = rf.predict(train[predictors])\n",
        "rf_test_predictions = rf.predict(test[predictors])"
      ],
      "execution_count": 0,
      "outputs": []
    },
    {
      "cell_type": "code",
      "metadata": {
        "id": "na7sPAqsYXUM",
        "colab_type": "code",
        "colab": {},
        "outputId": "fc124860-5085-46e0-f580-96d2849cfd62"
      },
      "source": [
        "# rf overfitting due to the small dataset\n",
        "print(mean_absolute_error(train_target,rf_train_predictions))\n",
        "print(mean_absolute_error(test_target,rf_test_predictions))"
      ],
      "execution_count": 0,
      "outputs": [
        {
          "output_type": "stream",
          "text": [
            "1.7497170058800895\n",
            "330.56019965925344\n"
          ],
          "name": "stdout"
        }
      ]
    },
    {
      "cell_type": "code",
      "metadata": {
        "id": "p99HLsrEYXUQ",
        "colab_type": "code",
        "colab": {},
        "outputId": "e1db24a6-c232-4213-b4e0-38d59142ff7d"
      },
      "source": [
        "import keras\n",
        "from keras import layers\n",
        "\n",
        "def build_model():\n",
        "    model = keras.Sequential([\n",
        "    layers.Dense(128, activation='relu', input_shape=[len(train[predictors].keys())]),\n",
        "    layers.Dense(128, activation='relu'),\n",
        "    layers.Dense(64, activation='relu'),    \n",
        "    layers.Dense(1)\n",
        "  ])\n",
        "\n",
        "    optimizer = keras.optimizers.RMSprop(0.001)\n",
        "\n",
        "    model.compile(loss='mse',\n",
        "                optimizer=optimizer,\n",
        "                metrics=['mae', 'mse'])\n",
        "    return model"
      ],
      "execution_count": 0,
      "outputs": [
        {
          "output_type": "stream",
          "text": [
            "Using TensorFlow backend.\n"
          ],
          "name": "stderr"
        }
      ]
    },
    {
      "cell_type": "code",
      "metadata": {
        "id": "D90vfFiKYXUT",
        "colab_type": "code",
        "colab": {},
        "outputId": "eae3e23b-b4c6-42d8-d457-d6e796e7fc46"
      },
      "source": [
        "model = build_model()\n",
        "model.summary()"
      ],
      "execution_count": 0,
      "outputs": [
        {
          "output_type": "stream",
          "text": [
            "_________________________________________________________________\n",
            "Layer (type)                 Output Shape              Param #   \n",
            "=================================================================\n",
            "dense_1 (Dense)              (None, 128)               2432      \n",
            "_________________________________________________________________\n",
            "dense_2 (Dense)              (None, 128)               16512     \n",
            "_________________________________________________________________\n",
            "dense_3 (Dense)              (None, 64)                8256      \n",
            "_________________________________________________________________\n",
            "dense_4 (Dense)              (None, 1)                 65        \n",
            "=================================================================\n",
            "Total params: 27,265\n",
            "Trainable params: 27,265\n",
            "Non-trainable params: 0\n",
            "_________________________________________________________________\n"
          ],
          "name": "stdout"
        }
      ]
    },
    {
      "cell_type": "code",
      "metadata": {
        "id": "Q7nQ3P8SYXUW",
        "colab_type": "code",
        "colab": {},
        "outputId": "418da3d1-b8bb-418b-d225-b1498a53fe4c"
      },
      "source": [
        "example_batch = train[predictors][:10]\n",
        "example_result = model.predict(example_batch)\n",
        "example_result"
      ],
      "execution_count": 0,
      "outputs": [
        {
          "output_type": "execute_result",
          "data": {
            "text/plain": [
              "array([[132720.14 ],\n",
              "       [129898.945],\n",
              "       [130784.21 ],\n",
              "       [125337.56 ],\n",
              "       [124342.22 ],\n",
              "       [161453.27 ],\n",
              "       [164678.16 ],\n",
              "       [169755.03 ],\n",
              "       [184184.11 ],\n",
              "       [189447.06 ]], dtype=float32)"
            ]
          },
          "metadata": {
            "tags": []
          },
          "execution_count": 19
        }
      ]
    },
    {
      "cell_type": "code",
      "metadata": {
        "id": "bybqmNnyYXUb",
        "colab_type": "code",
        "colab": {},
        "outputId": "61fedcb1-1738-4564-9a99-157ed6cd4920"
      },
      "source": [
        "# Display training progress by printing a single dot for each completed epoch\n",
        "class PrintDot(keras.callbacks.Callback):\n",
        "    def on_epoch_end(self, epoch, logs):\n",
        "        if epoch % 100 == 0: print('')\n",
        "        print('.', end='')\n",
        "\n",
        "EPOCHS = 100\n",
        "\n",
        "history = model.fit(\n",
        "  train[predictors], train_target,\n",
        "  epochs=EPOCHS, validation_split = 0.2, verbose=0,\n",
        "  callbacks=[PrintDot()])"
      ],
      "execution_count": 0,
      "outputs": [
        {
          "output_type": "stream",
          "text": [
            "\n",
            "....."
          ],
          "name": "stdout"
        }
      ]
    },
    {
      "cell_type": "code",
      "metadata": {
        "id": "BPSDd65KYXUf",
        "colab_type": "code",
        "colab": {},
        "outputId": "005360a0-d6e7-4e67-ecf1-2b97360356e3"
      },
      "source": [
        "hist = pd.DataFrame(history.history)\n",
        "hist['epoch'] = history.epoch\n",
        "hist.tail()"
      ],
      "execution_count": 0,
      "outputs": [
        {
          "output_type": "execute_result",
          "data": {
            "text/html": [
              "<div>\n",
              "<style scoped>\n",
              "    .dataframe tbody tr th:only-of-type {\n",
              "        vertical-align: middle;\n",
              "    }\n",
              "\n",
              "    .dataframe tbody tr th {\n",
              "        vertical-align: top;\n",
              "    }\n",
              "\n",
              "    .dataframe thead th {\n",
              "        text-align: right;\n",
              "    }\n",
              "</style>\n",
              "<table border=\"1\" class=\"dataframe\">\n",
              "  <thead>\n",
              "    <tr style=\"text-align: right;\">\n",
              "      <th></th>\n",
              "      <th>loss</th>\n",
              "      <th>mean_absolute_error</th>\n",
              "      <th>mean_squared_error</th>\n",
              "      <th>val_loss</th>\n",
              "      <th>val_mean_absolute_error</th>\n",
              "      <th>val_mean_squared_error</th>\n",
              "      <th>epoch</th>\n",
              "    </tr>\n",
              "  </thead>\n",
              "  <tbody>\n",
              "    <tr>\n",
              "      <th>0</th>\n",
              "      <td>93902.891667</td>\n",
              "      <td>210.938276</td>\n",
              "      <td>93902.891667</td>\n",
              "      <td>1.194041e+13</td>\n",
              "      <td>215223.461925</td>\n",
              "      <td>1.194041e+13</td>\n",
              "      <td>0</td>\n",
              "    </tr>\n",
              "    <tr>\n",
              "      <th>1</th>\n",
              "      <td>93909.577585</td>\n",
              "      <td>209.972323</td>\n",
              "      <td>93909.577585</td>\n",
              "      <td>1.192214e+13</td>\n",
              "      <td>215060.412725</td>\n",
              "      <td>1.192214e+13</td>\n",
              "      <td>1</td>\n",
              "    </tr>\n",
              "    <tr>\n",
              "      <th>2</th>\n",
              "      <td>93905.564196</td>\n",
              "      <td>210.237281</td>\n",
              "      <td>93905.564196</td>\n",
              "      <td>1.193223e+13</td>\n",
              "      <td>215150.489809</td>\n",
              "      <td>1.193223e+13</td>\n",
              "      <td>2</td>\n",
              "    </tr>\n",
              "    <tr>\n",
              "      <th>3</th>\n",
              "      <td>93905.534736</td>\n",
              "      <td>210.312423</td>\n",
              "      <td>93905.534736</td>\n",
              "      <td>1.195304e+13</td>\n",
              "      <td>215336.056621</td>\n",
              "      <td>1.195304e+13</td>\n",
              "      <td>3</td>\n",
              "    </tr>\n",
              "    <tr>\n",
              "      <th>4</th>\n",
              "      <td>93904.725726</td>\n",
              "      <td>210.419885</td>\n",
              "      <td>93904.725726</td>\n",
              "      <td>1.195828e+13</td>\n",
              "      <td>215382.767723</td>\n",
              "      <td>1.195828e+13</td>\n",
              "      <td>4</td>\n",
              "    </tr>\n",
              "  </tbody>\n",
              "</table>\n",
              "</div>"
            ],
            "text/plain": [
              "           loss  mean_absolute_error  mean_squared_error      val_loss  \\\n",
              "0  93902.891667           210.938276        93902.891667  1.194041e+13   \n",
              "1  93909.577585           209.972323        93909.577585  1.192214e+13   \n",
              "2  93905.564196           210.237281        93905.564196  1.193223e+13   \n",
              "3  93905.534736           210.312423        93905.534736  1.195304e+13   \n",
              "4  93904.725726           210.419885        93904.725726  1.195828e+13   \n",
              "\n",
              "   val_mean_absolute_error  val_mean_squared_error  epoch  \n",
              "0            215223.461925            1.194041e+13      0  \n",
              "1            215060.412725            1.192214e+13      1  \n",
              "2            215150.489809            1.193223e+13      2  \n",
              "3            215336.056621            1.195304e+13      3  \n",
              "4            215382.767723            1.195828e+13      4  "
            ]
          },
          "metadata": {
            "tags": []
          },
          "execution_count": 26
        }
      ]
    },
    {
      "cell_type": "code",
      "metadata": {
        "id": "TSDPijkyYXUi",
        "colab_type": "code",
        "colab": {},
        "outputId": "25f71508-1233-4c5e-985e-585060993501"
      },
      "source": [
        "import matplotlib.pyplot as plt\n",
        "\n",
        "def plot_history(history):\n",
        "    hist = pd.DataFrame(history.history)\n",
        "    hist['epoch'] = history.epoch\n",
        "\n",
        "    plt.figure()\n",
        "    plt.xlabel('Epoch')\n",
        "    plt.ylabel('Mean Abs Error [MPG]')\n",
        "    plt.plot(hist['epoch'], hist['mean_absolute_error'], label='Train Error')\n",
        "    plt.plot(hist['epoch'], hist['val_mean_absolute_error'],\n",
        "           label = 'Val Error')\n",
        "#     plt.ylim([0,5])\n",
        "    plt.legend()\n",
        "\n",
        "    plt.figure()\n",
        "    plt.xlabel('Epoch')\n",
        "    plt.ylabel('Mean Square Error [$MPG^2$]')\n",
        "    plt.plot(hist['epoch'], hist['mean_squared_error'],\n",
        "           label='Train Error')\n",
        "    plt.plot(hist['epoch'], hist['val_mean_squared_error'],\n",
        "           label = 'Val Error')\n",
        "#     plt.ylim([0,20])\n",
        "    plt.legend()\n",
        "    plt.show()\n",
        "\n",
        "\n",
        "plot_history(history)"
      ],
      "execution_count": 0,
      "outputs": [
        {
          "output_type": "display_data",
          "data": {
            "image/png": "[encoded data removed]",
            "text/plain": [
              "<matplotlib.figure.Figure at 0x121b18d30>"
            ]
          },
          "metadata": {
            "tags": []
          }
        },
        {
          "output_type": "display_data",
          "data": {
            "image/png": "[encoded data removed]",
            "text/plain": [
              "<matplotlib.figure.Figure at 0x12286d2e8>"
            ]
          },
          "metadata": {
            "tags": []
          }
        }
      ]
    },
    {
      "cell_type": "code",
      "metadata": {
        "id": "Fv3zMDLHYXUl",
        "colab_type": "code",
        "colab": {},
        "outputId": "de81e352-2d80-44ca-9c65-49a1707e1dc8"
      },
      "source": [
        "nn_test_predictions = model.predict(test[predictors]).flatten()\n",
        "nn_train_predictions = model.predict(train[predictors]).flatten()\n",
        "\n",
        "a = plt.axes(aspect='equal')\n",
        "plt.scatter(test_target, nn_test_predictions)\n",
        "plt.xlabel('True Values [MPG]')\n",
        "plt.ylabel('Predictions [MPG]')\n",
        "lims = [0, 50]\n",
        "plt.xlim(lims)\n",
        "plt.ylim(lims)\n",
        "_ = plt.plot(lims, lims)"
      ],
      "execution_count": 0,
      "outputs": [
        {
          "output_type": "display_data",
          "data": {
            "image/png": "[encoded data removed]",
            "text/plain": [
              "<matplotlib.figure.Figure at 0x120281d30>"
            ]
          },
          "metadata": {
            "tags": []
          }
        }
      ]
    },
    {
      "cell_type": "code",
      "metadata": {
        "id": "TdGkGtkuYXUp",
        "colab_type": "code",
        "colab": {},
        "outputId": "7a2fb1d2-4513-4545-8bc5-46e2541519e8"
      },
      "source": [
        "print(mean_absolute_error(train_target, nn_train_predictions))\n",
        "print(mean_absolute_error(test_target, nn_test_predictions))"
      ],
      "execution_count": 0,
      "outputs": [
        {
          "output_type": "stream",
          "text": [
            "43250.42878999707\n",
            "1639.2396120969997\n"
          ],
          "name": "stdout"
        }
      ]
    },
    {
      "cell_type": "code",
      "metadata": {
        "id": "iDY35OCiYXUt",
        "colab_type": "code",
        "colab": {}
      },
      "source": [
        "21"
      ],
      "execution_count": 0,
      "outputs": []
    }
  ]
}