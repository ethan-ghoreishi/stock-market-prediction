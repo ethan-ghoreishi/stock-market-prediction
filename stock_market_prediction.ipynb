{
 "cells": [
  {
   "cell_type": "code",
   "execution_count": 22,
   "metadata": {},
   "outputs": [],
   "source": [
    "import pandas as pd\n",
    "from datetime import datetime"
   ]
  },
  {
   "cell_type": "code",
   "execution_count": 177,
   "metadata": {},
   "outputs": [
    {
     "data": {
      "text/html": [
       "<div>\n",
       "<style scoped>\n",
       "    .dataframe tbody tr th:only-of-type {\n",
       "        vertical-align: middle;\n",
       "    }\n",
       "\n",
       "    .dataframe tbody tr th {\n",
       "        vertical-align: top;\n",
       "    }\n",
       "\n",
       "    .dataframe thead th {\n",
       "        text-align: right;\n",
       "    }\n",
       "</style>\n",
       "<table border=\"1\" class=\"dataframe\">\n",
       "  <thead>\n",
       "    <tr style=\"text-align: right;\">\n",
       "      <th></th>\n",
       "      <th>Date</th>\n",
       "      <th>Open</th>\n",
       "      <th>High</th>\n",
       "      <th>Low</th>\n",
       "      <th>Close</th>\n",
       "      <th>Volume</th>\n",
       "      <th>Adj Close</th>\n",
       "    </tr>\n",
       "  </thead>\n",
       "  <tbody>\n",
       "    <tr>\n",
       "      <th>16589</th>\n",
       "      <td>1950-01-03</td>\n",
       "      <td>16.66</td>\n",
       "      <td>16.66</td>\n",
       "      <td>16.66</td>\n",
       "      <td>16.66</td>\n",
       "      <td>1260000.0</td>\n",
       "      <td>16.66</td>\n",
       "    </tr>\n",
       "    <tr>\n",
       "      <th>16588</th>\n",
       "      <td>1950-01-04</td>\n",
       "      <td>16.85</td>\n",
       "      <td>16.85</td>\n",
       "      <td>16.85</td>\n",
       "      <td>16.85</td>\n",
       "      <td>1890000.0</td>\n",
       "      <td>16.85</td>\n",
       "    </tr>\n",
       "    <tr>\n",
       "      <th>16587</th>\n",
       "      <td>1950-01-05</td>\n",
       "      <td>16.93</td>\n",
       "      <td>16.93</td>\n",
       "      <td>16.93</td>\n",
       "      <td>16.93</td>\n",
       "      <td>2550000.0</td>\n",
       "      <td>16.93</td>\n",
       "    </tr>\n",
       "    <tr>\n",
       "      <th>16586</th>\n",
       "      <td>1950-01-06</td>\n",
       "      <td>16.98</td>\n",
       "      <td>16.98</td>\n",
       "      <td>16.98</td>\n",
       "      <td>16.98</td>\n",
       "      <td>2010000.0</td>\n",
       "      <td>16.98</td>\n",
       "    </tr>\n",
       "    <tr>\n",
       "      <th>16585</th>\n",
       "      <td>1950-01-09</td>\n",
       "      <td>17.08</td>\n",
       "      <td>17.08</td>\n",
       "      <td>17.08</td>\n",
       "      <td>17.08</td>\n",
       "      <td>2520000.0</td>\n",
       "      <td>17.08</td>\n",
       "    </tr>\n",
       "  </tbody>\n",
       "</table>\n",
       "</div>"
      ],
      "text/plain": [
       "            Date   Open   High    Low  Close     Volume  Adj Close\n",
       "16589 1950-01-03  16.66  16.66  16.66  16.66  1260000.0      16.66\n",
       "16588 1950-01-04  16.85  16.85  16.85  16.85  1890000.0      16.85\n",
       "16587 1950-01-05  16.93  16.93  16.93  16.93  2550000.0      16.93\n",
       "16586 1950-01-06  16.98  16.98  16.98  16.98  2010000.0      16.98\n",
       "16585 1950-01-09  17.08  17.08  17.08  17.08  2520000.0      17.08"
      ]
     },
     "execution_count": 177,
     "metadata": {},
     "output_type": "execute_result"
    }
   ],
   "source": [
    "# Read the data and change the date column to datetime objects\n",
    "df = pd.read_csv(\"sphist.csv\")\n",
    "df[\"Date\"] = pd.to_datetime(data[\"Date\"])\n",
    "# Sort by date from oldest to newest\n",
    "df.sort_values(\"Date\", ascending=True, inplace=True)\n",
    "\n",
    "df.head()\n",
    "# Another approach for changing the date column\n",
    "# def convert_date(x):\n",
    "#     return dt.strptime(x, \"%Y-%M-%d\")\n",
    "\n",
    "# strp_date = df[\"Date\"].apply(convert_date)"
   ]
  },
  {
   "cell_type": "code",
   "execution_count": 178,
   "metadata": {},
   "outputs": [
    {
     "data": {
      "text/html": [
       "<div>\n",
       "<style scoped>\n",
       "    .dataframe tbody tr th:only-of-type {\n",
       "        vertical-align: middle;\n",
       "    }\n",
       "\n",
       "    .dataframe tbody tr th {\n",
       "        vertical-align: top;\n",
       "    }\n",
       "\n",
       "    .dataframe thead th {\n",
       "        text-align: right;\n",
       "    }\n",
       "</style>\n",
       "<table border=\"1\" class=\"dataframe\">\n",
       "  <thead>\n",
       "    <tr style=\"text-align: right;\">\n",
       "      <th></th>\n",
       "      <th>Date</th>\n",
       "      <th>Open</th>\n",
       "      <th>High</th>\n",
       "      <th>Low</th>\n",
       "      <th>Close</th>\n",
       "      <th>Volume</th>\n",
       "      <th>Adj Close</th>\n",
       "      <th>Mean 5 Days Open</th>\n",
       "      <th>Mean 5 Days Close</th>\n",
       "      <th>Mean 30 Days Open</th>\n",
       "      <th>Mean 30 Days Close</th>\n",
       "      <th>Mean 365 Days Open</th>\n",
       "      <th>Mean 365 Days Close</th>\n",
       "      <th>Std 30 Days Open</th>\n",
       "      <th>Std 30 Days Close</th>\n",
       "      <th>Mean 5/30 Days High</th>\n",
       "      <th>Mean 5/30 Days Low</th>\n",
       "    </tr>\n",
       "  </thead>\n",
       "  <tbody>\n",
       "    <tr>\n",
       "      <th>16226</th>\n",
       "      <td>1951-06-15</td>\n",
       "      <td>22.040001</td>\n",
       "      <td>22.040001</td>\n",
       "      <td>22.040001</td>\n",
       "      <td>22.040001</td>\n",
       "      <td>1370000.0</td>\n",
       "      <td>22.040001</td>\n",
       "      <td>21.800</td>\n",
       "      <td>21.800</td>\n",
       "      <td>21.703333</td>\n",
       "      <td>21.703333</td>\n",
       "      <td>19.447726</td>\n",
       "      <td>19.447726</td>\n",
       "      <td>0.473595</td>\n",
       "      <td>0.473595</td>\n",
       "      <td>0.993058</td>\n",
       "      <td>0.993058</td>\n",
       "    </tr>\n",
       "    <tr>\n",
       "      <th>16225</th>\n",
       "      <td>1951-06-18</td>\n",
       "      <td>22.049999</td>\n",
       "      <td>22.049999</td>\n",
       "      <td>22.049999</td>\n",
       "      <td>22.049999</td>\n",
       "      <td>1050000.0</td>\n",
       "      <td>22.049999</td>\n",
       "      <td>21.900</td>\n",
       "      <td>21.900</td>\n",
       "      <td>21.683000</td>\n",
       "      <td>21.683000</td>\n",
       "      <td>19.462411</td>\n",
       "      <td>19.462411</td>\n",
       "      <td>0.444648</td>\n",
       "      <td>0.444648</td>\n",
       "      <td>0.999294</td>\n",
       "      <td>0.999294</td>\n",
       "    </tr>\n",
       "    <tr>\n",
       "      <th>16224</th>\n",
       "      <td>1951-06-19</td>\n",
       "      <td>22.020000</td>\n",
       "      <td>22.020000</td>\n",
       "      <td>22.020000</td>\n",
       "      <td>22.020000</td>\n",
       "      <td>1100000.0</td>\n",
       "      <td>22.020000</td>\n",
       "      <td>21.972</td>\n",
       "      <td>21.972</td>\n",
       "      <td>21.659667</td>\n",
       "      <td>21.659667</td>\n",
       "      <td>19.476274</td>\n",
       "      <td>19.476274</td>\n",
       "      <td>0.411452</td>\n",
       "      <td>0.411452</td>\n",
       "      <td>1.004454</td>\n",
       "      <td>1.004454</td>\n",
       "    </tr>\n",
       "    <tr>\n",
       "      <th>16223</th>\n",
       "      <td>1951-06-20</td>\n",
       "      <td>21.910000</td>\n",
       "      <td>21.910000</td>\n",
       "      <td>21.910000</td>\n",
       "      <td>21.910000</td>\n",
       "      <td>1120000.0</td>\n",
       "      <td>21.910000</td>\n",
       "      <td>21.960</td>\n",
       "      <td>21.960</td>\n",
       "      <td>21.631000</td>\n",
       "      <td>21.631000</td>\n",
       "      <td>19.489562</td>\n",
       "      <td>19.489562</td>\n",
       "      <td>0.368514</td>\n",
       "      <td>0.368514</td>\n",
       "      <td>1.010008</td>\n",
       "      <td>1.010008</td>\n",
       "    </tr>\n",
       "    <tr>\n",
       "      <th>16222</th>\n",
       "      <td>1951-06-21</td>\n",
       "      <td>21.780001</td>\n",
       "      <td>21.780001</td>\n",
       "      <td>21.780001</td>\n",
       "      <td>21.780001</td>\n",
       "      <td>1100000.0</td>\n",
       "      <td>21.780001</td>\n",
       "      <td>21.862</td>\n",
       "      <td>21.862</td>\n",
       "      <td>21.599000</td>\n",
       "      <td>21.599000</td>\n",
       "      <td>19.502082</td>\n",
       "      <td>19.502082</td>\n",
       "      <td>0.329130</td>\n",
       "      <td>0.329130</td>\n",
       "      <td>1.014420</td>\n",
       "      <td>1.014420</td>\n",
       "    </tr>\n",
       "  </tbody>\n",
       "</table>\n",
       "</div>"
      ],
      "text/plain": [
       "            Date       Open       High        Low      Close     Volume  \\\n",
       "16226 1951-06-15  22.040001  22.040001  22.040001  22.040001  1370000.0   \n",
       "16225 1951-06-18  22.049999  22.049999  22.049999  22.049999  1050000.0   \n",
       "16224 1951-06-19  22.020000  22.020000  22.020000  22.020000  1100000.0   \n",
       "16223 1951-06-20  21.910000  21.910000  21.910000  21.910000  1120000.0   \n",
       "16222 1951-06-21  21.780001  21.780001  21.780001  21.780001  1100000.0   \n",
       "\n",
       "       Adj Close  Mean 5 Days Open  Mean 5 Days Close  Mean 30 Days Open  \\\n",
       "16226  22.040001            21.800             21.800          21.703333   \n",
       "16225  22.049999            21.900             21.900          21.683000   \n",
       "16224  22.020000            21.972             21.972          21.659667   \n",
       "16223  21.910000            21.960             21.960          21.631000   \n",
       "16222  21.780001            21.862             21.862          21.599000   \n",
       "\n",
       "       Mean 30 Days Close  Mean 365 Days Open  Mean 365 Days Close  \\\n",
       "16226           21.703333           19.447726            19.447726   \n",
       "16225           21.683000           19.462411            19.462411   \n",
       "16224           21.659667           19.476274            19.476274   \n",
       "16223           21.631000           19.489562            19.489562   \n",
       "16222           21.599000           19.502082            19.502082   \n",
       "\n",
       "       Std 30 Days Open  Std 30 Days Close  Mean 5/30 Days High  \\\n",
       "16226          0.473595           0.473595             0.993058   \n",
       "16225          0.444648           0.444648             0.999294   \n",
       "16224          0.411452           0.411452             1.004454   \n",
       "16223          0.368514           0.368514             1.010008   \n",
       "16222          0.329130           0.329130             1.014420   \n",
       "\n",
       "       Mean 5/30 Days Low  \n",
       "16226            0.993058  \n",
       "16225            0.999294  \n",
       "16224            1.004454  \n",
       "16223            1.010008  \n",
       "16222            1.014420  "
      ]
     },
     "execution_count": 178,
     "metadata": {},
     "output_type": "execute_result"
    }
   ],
   "source": [
    "# Start computing indicators on 1951-01-03 as some indicators require year of historical data to compute\n",
    "start_date = df[\"Date\"] >= datetime(year=1951, month=1, day=3)\n",
    "\n",
    "# Add indicators that could be helpful for machine learning\n",
    "# Rolling mean will use the current day's price, therefore reindex (shift(-1))\n",
    "# Average price from the past 5 days\n",
    "df[\"Mean 5 Days Open\"] = df[\"Open\"].rolling(5).mean().shift(-1)\n",
    "df[\"Mean 5 Days Close\"] = df[\"Close\"].rolling(5).mean().shift(-1)\n",
    "df[\"Mean 30 Days Open\"] = df[\"Open\"].rolling(30).mean().shift(-1)\n",
    "df[\"Mean 30 Days Close\"] = df[\"Close\"].rolling(30).mean().shift(-1)\n",
    "df[\"Mean 365 Days Open\"] = df[\"Open\"].rolling(365).mean().shift(-1)\n",
    "df[\"Mean 365 Days Close\"] = df[\"Close\"].rolling(365).mean().shift(-1)\n",
    "df[\"Std 30 Days Open\"] = df[\"Open\"].rolling(30).std().shift(-1)\n",
    "df[\"Std 30 Days Close\"] = df[\"Close\"].rolling(30).std().shift(-1)\n",
    "df[\"Mean 5/30 Days High\"] = (df[\"High\"].rolling(5).mean()/df[start_date][\"High\"].rolling(30).mean()).shift(-1)\n",
    "df[\"Mean 5/30 Days Low\"] = (df[\"Low\"].rolling(5).mean()/df[start_date][\"Low\"].rolling(30).mean()).shift(-1)\n",
    "\n",
    "# Remove any rows from the DataFrame that fall before 1951-01-03\n",
    "df = df[start_date]\n",
    "df.dropna(axis=0, inplace=True)\n",
    "df.head()"
   ]
  },
  {
   "cell_type": "code",
   "execution_count": 179,
   "metadata": {},
   "outputs": [],
   "source": [
    "train_end_date = df[\"Date\"] < datetime(year=2013, month=1, day=1)\n",
    "test_start_date = df[\"Date\"] >= datetime(year=2013, month=1, day=1)\n",
    "\n",
    "train = df[train_end_date]\n",
    "test = df[test_start_date]\n",
    "train_target = train[\"Close\"]\n",
    "test_target = test[\"Close\"]\n",
    "\n",
    "# remove columns that inject future knowledge\n",
    "predictors = list(train.columns)\n",
    "future_knowledge_cols = [\"Close\", \"High\", \"Low\", \"Open\", \"Volume\", \"Adj Close\", \"Date\"]\n",
    "for col in future_knowledge_cols:\n",
    "    predictors.remove(col)"
   ]
  },
  {
   "cell_type": "markdown",
   "metadata": {},
   "source": [
    "### Error Metric\n",
    "Use MAE to show how \"close\" we are to the price in intuitive terms"
   ]
  },
  {
   "cell_type": "code",
   "execution_count": 203,
   "metadata": {},
   "outputs": [],
   "source": [
    "from sklearn.linear_model import LinearRegression\n",
    "from sklearn.metrics import mean_absolute_error\n",
    "from sklearn.metrics import mean_squared_error\n",
    "\n",
    "lr = LinearRegression()\n",
    "lr.fit(train[predictors], train_target)\n",
    "lr_train_predictions = lr.predict(train[predictors])\n",
    "lr_test_predictions = lr.predict(test[predictors])"
   ]
  },
  {
   "cell_type": "code",
   "execution_count": 204,
   "metadata": {},
   "outputs": [
    {
     "name": "stdout",
     "output_type": "stream",
     "text": [
      "2.273431033250855\n",
      "6.9579281487275\n"
     ]
    }
   ],
   "source": [
    "print(mean_absolute_error(train_target, lr_train_predictions))\n",
    "print(mean_absolute_error(test_target, lr_test_predictions))"
   ]
  },
  {
   "cell_type": "code",
   "execution_count": 240,
   "metadata": {},
   "outputs": [],
   "source": [
    "from sklearn.ensemble import RandomForestRegressor\n",
    "\n",
    "rf = RandomForestRegressor(min_samples_leaf=5)\n",
    "rf.fit(train[predictors], train_target)\n",
    "rf_train_predictions = rf.predict(train[predictors])\n",
    "rf_test_predictions = rf.predict(test[predictors])"
   ]
  },
  {
   "cell_type": "code",
   "execution_count": 241,
   "metadata": {},
   "outputs": [
    {
     "name": "stdout",
     "output_type": "stream",
     "text": [
      "1.809496432846478\n",
      "331.3720385935681\n"
     ]
    }
   ],
   "source": [
    "# rf overfitting due to the small dataset\n",
    "print(mean_absolute_error(train_target,rf_train_predictions))\n",
    "print(mean_absolute_error(test_target,rf_test_predictions))"
   ]
  },
  {
   "cell_type": "code",
   "execution_count": 248,
   "metadata": {},
   "outputs": [],
   "source": [
    "import keras\n",
    "from keras import layers\n",
    "\n",
    "def build_model():\n",
    "    model = keras.Sequential([\n",
    "    layers.Dense(128, activation='relu', input_shape=[len(train[predictors].keys())]),\n",
    "    layers.Dense(128, activation='relu'),\n",
    "    layers.Dense(64, activation='relu'),    \n",
    "    layers.Dense(1)\n",
    "  ])\n",
    "\n",
    "    optimizer = keras.optimizers.RMSprop(0.001)\n",
    "\n",
    "    model.compile(loss='mse',\n",
    "                optimizer=optimizer,\n",
    "                metrics=['mae', 'mse'])\n",
    "    return model"
   ]
  },
  {
   "cell_type": "code",
   "execution_count": 249,
   "metadata": {},
   "outputs": [
    {
     "name": "stdout",
     "output_type": "stream",
     "text": [
      "_________________________________________________________________\n",
      "Layer (type)                 Output Shape              Param #   \n",
      "=================================================================\n",
      "dense_1 (Dense)              (None, 128)               1408      \n",
      "_________________________________________________________________\n",
      "dense_2 (Dense)              (None, 128)               16512     \n",
      "_________________________________________________________________\n",
      "dense_3 (Dense)              (None, 64)                8256      \n",
      "_________________________________________________________________\n",
      "dense_4 (Dense)              (None, 1)                 65        \n",
      "=================================================================\n",
      "Total params: 26,241\n",
      "Trainable params: 26,241\n",
      "Non-trainable params: 0\n",
      "_________________________________________________________________\n"
     ]
    }
   ],
   "source": [
    "model = build_model()\n",
    "model.summary()"
   ]
  },
  {
   "cell_type": "code",
   "execution_count": 250,
   "metadata": {},
   "outputs": [
    {
     "data": {
      "text/plain": [
       "array([[-1.4123588],\n",
       "       [-1.4139799],\n",
       "       [-1.4154878],\n",
       "       [-1.4169235],\n",
       "       [-1.4188721],\n",
       "       [-1.4220803],\n",
       "       [-1.4252489],\n",
       "       [-1.4294711],\n",
       "       [-1.4350648],\n",
       "       [-1.440835 ]], dtype=float32)"
      ]
     },
     "execution_count": 250,
     "metadata": {},
     "output_type": "execute_result"
    }
   ],
   "source": [
    "example_batch = train[predictors][:10]\n",
    "example_result = model.predict(example_batch)\n",
    "example_result"
   ]
  },
  {
   "cell_type": "code",
   "execution_count": 253,
   "metadata": {},
   "outputs": [
    {
     "name": "stdout",
     "output_type": "stream",
     "text": [
      "\n",
      "...................................................................................................."
     ]
    }
   ],
   "source": [
    "# Display training progress by printing a single dot for each completed epoch\n",
    "class PrintDot(keras.callbacks.Callback):\n",
    "    def on_epoch_end(self, epoch, logs):\n",
    "        if epoch % 100 == 0: print('')\n",
    "        print('.', end='')\n",
    "\n",
    "EPOCHS = 100\n",
    "\n",
    "history = model.fit(\n",
    "  train[predictors], train_target,\n",
    "  epochs=EPOCHS, validation_split = 0.2, verbose=0,\n",
    "  callbacks=[PrintDot()])"
   ]
  },
  {
   "cell_type": "code",
   "execution_count": 254,
   "metadata": {},
   "outputs": [
    {
     "data": {
      "text/html": [
       "<div>\n",
       "<style scoped>\n",
       "    .dataframe tbody tr th:only-of-type {\n",
       "        vertical-align: middle;\n",
       "    }\n",
       "\n",
       "    .dataframe tbody tr th {\n",
       "        vertical-align: top;\n",
       "    }\n",
       "\n",
       "    .dataframe thead th {\n",
       "        text-align: right;\n",
       "    }\n",
       "</style>\n",
       "<table border=\"1\" class=\"dataframe\">\n",
       "  <thead>\n",
       "    <tr style=\"text-align: right;\">\n",
       "      <th></th>\n",
       "      <th>loss</th>\n",
       "      <th>mean_absolute_error</th>\n",
       "      <th>mean_squared_error</th>\n",
       "      <th>val_loss</th>\n",
       "      <th>val_mean_absolute_error</th>\n",
       "      <th>val_mean_squared_error</th>\n",
       "      <th>epoch</th>\n",
       "    </tr>\n",
       "  </thead>\n",
       "  <tbody>\n",
       "    <tr>\n",
       "      <th>95</th>\n",
       "      <td>51.854383</td>\n",
       "      <td>3.228508</td>\n",
       "      <td>51.854383</td>\n",
       "      <td>214.106305</td>\n",
       "      <td>10.780243</td>\n",
       "      <td>214.106305</td>\n",
       "      <td>95</td>\n",
       "    </tr>\n",
       "    <tr>\n",
       "      <th>96</th>\n",
       "      <td>47.931740</td>\n",
       "      <td>3.063246</td>\n",
       "      <td>47.931740</td>\n",
       "      <td>728.631613</td>\n",
       "      <td>24.118335</td>\n",
       "      <td>728.631613</td>\n",
       "      <td>96</td>\n",
       "    </tr>\n",
       "    <tr>\n",
       "      <th>97</th>\n",
       "      <td>46.235013</td>\n",
       "      <td>2.961755</td>\n",
       "      <td>46.235013</td>\n",
       "      <td>203.154963</td>\n",
       "      <td>10.671271</td>\n",
       "      <td>203.154963</td>\n",
       "      <td>97</td>\n",
       "    </tr>\n",
       "    <tr>\n",
       "      <th>98</th>\n",
       "      <td>48.646458</td>\n",
       "      <td>3.184187</td>\n",
       "      <td>48.646458</td>\n",
       "      <td>293.292553</td>\n",
       "      <td>13.353780</td>\n",
       "      <td>293.292553</td>\n",
       "      <td>98</td>\n",
       "    </tr>\n",
       "    <tr>\n",
       "      <th>99</th>\n",
       "      <td>47.155761</td>\n",
       "      <td>3.010365</td>\n",
       "      <td>47.155761</td>\n",
       "      <td>398.394264</td>\n",
       "      <td>16.324887</td>\n",
       "      <td>398.394264</td>\n",
       "      <td>99</td>\n",
       "    </tr>\n",
       "  </tbody>\n",
       "</table>\n",
       "</div>"
      ],
      "text/plain": [
       "         loss  mean_absolute_error  mean_squared_error    val_loss  \\\n",
       "95  51.854383             3.228508           51.854383  214.106305   \n",
       "96  47.931740             3.063246           47.931740  728.631613   \n",
       "97  46.235013             2.961755           46.235013  203.154963   \n",
       "98  48.646458             3.184187           48.646458  293.292553   \n",
       "99  47.155761             3.010365           47.155761  398.394264   \n",
       "\n",
       "    val_mean_absolute_error  val_mean_squared_error  epoch  \n",
       "95                10.780243              214.106305     95  \n",
       "96                24.118335              728.631613     96  \n",
       "97                10.671271              203.154963     97  \n",
       "98                13.353780              293.292553     98  \n",
       "99                16.324887              398.394264     99  "
      ]
     },
     "execution_count": 254,
     "metadata": {},
     "output_type": "execute_result"
    }
   ],
   "source": [
    "hist = pd.DataFrame(history.history)\n",
    "hist['epoch'] = history.epoch\n",
    "hist.tail()"
   ]
  },
  {
   "cell_type": "code",
   "execution_count": 261,
   "metadata": {},
   "outputs": [
    {
     "data": {
      "image/png": "[encoded data removed]",
      "text/plain": [
       "<matplotlib.figure.Figure at 0x1272dc4e0>"
      ]
     },
     "metadata": {},
     "output_type": "display_data"
    },
    {
     "data": {
      "image/png": "[encoded data removed]",
      "text/plain": [
       "<matplotlib.figure.Figure at 0x127e9aeb8>"
      ]
     },
     "metadata": {},
     "output_type": "display_data"
    }
   ],
   "source": [
    "import matplotlib.pyplot as plt\n",
    "%matplotlib inline\n",
    "\n",
    "def plot_history(history):\n",
    "    hist = pd.DataFrame(history.history)\n",
    "    hist['epoch'] = history.epoch\n",
    "\n",
    "    plt.figure()\n",
    "    plt.xlabel('Epoch')\n",
    "    plt.ylabel('Mean Abs Error [MPG]')\n",
    "    plt.plot(hist['epoch'], hist['mean_absolute_error'], label='Train Error')\n",
    "    plt.plot(hist['epoch'], hist['val_mean_absolute_error'],\n",
    "           label = 'Val Error')\n",
    "#     plt.ylim([0,5])\n",
    "    plt.legend()\n",
    "\n",
    "    plt.figure()\n",
    "    plt.xlabel('Epoch')\n",
    "    plt.ylabel('Mean Square Error [$MPG^2$]')\n",
    "    plt.plot(hist['epoch'], hist['mean_squared_error'],\n",
    "           label='Train Error')\n",
    "    plt.plot(hist['epoch'], hist['val_mean_squared_error'],\n",
    "           label = 'Val Error')\n",
    "#     plt.ylim([0,20])\n",
    "    plt.legend()\n",
    "    plt.show()\n",
    "\n",
    "\n",
    "plot_history(history)"
   ]
  },
  {
   "cell_type": "code",
   "execution_count": 262,
   "metadata": {},
   "outputs": [
    {
     "data": {
      "image/png": "[encoded data removed]",
      "text/plain": [
       "<matplotlib.figure.Figure at 0x127e96ef0>"
      ]
     },
     "metadata": {},
     "output_type": "display_data"
    }
   ],
   "source": [
    "nn_test_predictions = model.predict(test[predictors]).flatten()\n",
    "nn_train_predictions = model.predict(train[predictors]).flatten()\n",
    "\n",
    "a = plt.axes(aspect='equal')\n",
    "plt.scatter(test_target, nn_test_predictions)\n",
    "plt.xlabel('True Values [MPG]')\n",
    "plt.ylabel('Predictions [MPG]')\n",
    "lims = [0, 50]\n",
    "plt.xlim(lims)\n",
    "plt.ylim(lims)\n",
    "_ = plt.plot(lims, lims)"
   ]
  },
  {
   "cell_type": "code",
   "execution_count": 263,
   "metadata": {},
   "outputs": [
    {
     "name": "stdout",
     "output_type": "stream",
     "text": [
      "5.640697649710364\n",
      "21.478339975662685\n"
     ]
    }
   ],
   "source": [
    "print(mean_absolute_error(train_target, nn_train_predictions))\n",
    "print(mean_absolute_error(test_target, nn_test_predictions))"
   ]
  },
  {
   "cell_type": "code",
   "execution_count": null,
   "metadata": {},
   "outputs": [],
   "source": []
  }
 ],
 "metadata": {
  "kernelspec": {
   "display_name": "Python 3",
   "language": "python",
   "name": "python3"
  },
  "language_info": {
   "codemirror_mode": {
    "name": "ipython",
    "version": 3
   },
   "file_extension": ".py",
   "mimetype": "text/x-python",
   "name": "python",
   "nbconvert_exporter": "python",
   "pygments_lexer": "ipython3",
   "version": "3.5.1"
  }
 },
 "nbformat": 4,
 "nbformat_minor": 2
}
