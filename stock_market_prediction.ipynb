{
  "nbformat": 4,
  "nbformat_minor": 0,
  "metadata": {
    "kernelspec": {
      "display_name": "Python 3",
      "language": "python",
      "name": "python3"
    },
    "language_info": {
      "codemirror_mode": {
        "name": "ipython",
        "version": 3
      },
      "file_extension": ".py",
      "mimetype": "text/x-python",
      "name": "python",
      "nbconvert_exporter": "python",
      "pygments_lexer": "ipython3",
      "version": "3.5.1"
    },
    "colab": {
      "name": "stock_market_prediction.ipynb",
      "provenance": [],
      "include_colab_link": true
    }
  },
  "cells": [
    {
      "cell_type": "markdown",
      "metadata": {
        "id": "view-in-github",
        "colab_type": "text"
      },
      "source": [
        "<a href=\"https://colab.research.google.com/github/ethan-ghoreishi/stock-market-prediction/blob/master/stock_market_prediction.ipynb\" target=\"_parent\"><img src=\"https://colab.research.google.com/assets/colab-badge.svg\" alt=\"Open In Colab\"/></a>"
      ]
    },
    {
      "cell_type": "code",
      "metadata": {
        "id": "QGisGtetYXTk",
        "colab_type": "code",
        "colab": {}
      },
      "source": [
        "import pandas as pd\n",
        "from datetime import datetime\n",
        "from datetime import datetime\n",
        "import numpy as np"
      ],
      "execution_count": 0,
      "outputs": []
    },
    {
      "cell_type": "code",
      "metadata": {
        "id": "HH7mFT6AYXTs",
        "colab_type": "code",
        "outputId": "68531969-1f83-4af2-b5b7-a5baa7641b59",
        "colab": {
          "base_uri": "https://localhost:8080/",
          "height": 204
        }
      },
      "source": [
        "# Read the data and change the date column to datetime objects\n",
        "df = pd.read_csv(\"sphist.csv\")\n",
        "df[\"Date\"] = pd.to_datetime(df[\"Date\"])\n",
        "# Sort by date from oldest to newest\n",
        "df_sorted = df.sort_values(\"Date\", ascending=True).copy()\n",
        "\n",
        "df_sorted.head()\n",
        "# Another approach for changing the date column\n",
        "# def convert_date(x):\n",
        "#     return dt.strptime(x, \"%Y-%M-%d\")\n",
        "\n",
        "# strp_date = df[\"Date\"].apply(convert_date)"
      ],
      "execution_count": 2,
      "outputs": [
        {
          "output_type": "execute_result",
          "data": {
            "text/html": [
              "<div>\n",
              "<style scoped>\n",
              "    .dataframe tbody tr th:only-of-type {\n",
              "        vertical-align: middle;\n",
              "    }\n",
              "\n",
              "    .dataframe tbody tr th {\n",
              "        vertical-align: top;\n",
              "    }\n",
              "\n",
              "    .dataframe thead th {\n",
              "        text-align: right;\n",
              "    }\n",
              "</style>\n",
              "<table border=\"1\" class=\"dataframe\">\n",
              "  <thead>\n",
              "    <tr style=\"text-align: right;\">\n",
              "      <th></th>\n",
              "      <th>Date</th>\n",
              "      <th>Open</th>\n",
              "      <th>High</th>\n",
              "      <th>Low</th>\n",
              "      <th>Close</th>\n",
              "      <th>Volume</th>\n",
              "      <th>Adj Close</th>\n",
              "    </tr>\n",
              "  </thead>\n",
              "  <tbody>\n",
              "    <tr>\n",
              "      <th>16589</th>\n",
              "      <td>1950-01-03</td>\n",
              "      <td>16.66</td>\n",
              "      <td>16.66</td>\n",
              "      <td>16.66</td>\n",
              "      <td>16.66</td>\n",
              "      <td>1260000.0</td>\n",
              "      <td>16.66</td>\n",
              "    </tr>\n",
              "    <tr>\n",
              "      <th>16588</th>\n",
              "      <td>1950-01-04</td>\n",
              "      <td>16.85</td>\n",
              "      <td>16.85</td>\n",
              "      <td>16.85</td>\n",
              "      <td>16.85</td>\n",
              "      <td>1890000.0</td>\n",
              "      <td>16.85</td>\n",
              "    </tr>\n",
              "    <tr>\n",
              "      <th>16587</th>\n",
              "      <td>1950-01-05</td>\n",
              "      <td>16.93</td>\n",
              "      <td>16.93</td>\n",
              "      <td>16.93</td>\n",
              "      <td>16.93</td>\n",
              "      <td>2550000.0</td>\n",
              "      <td>16.93</td>\n",
              "    </tr>\n",
              "    <tr>\n",
              "      <th>16586</th>\n",
              "      <td>1950-01-06</td>\n",
              "      <td>16.98</td>\n",
              "      <td>16.98</td>\n",
              "      <td>16.98</td>\n",
              "      <td>16.98</td>\n",
              "      <td>2010000.0</td>\n",
              "      <td>16.98</td>\n",
              "    </tr>\n",
              "    <tr>\n",
              "      <th>16585</th>\n",
              "      <td>1950-01-09</td>\n",
              "      <td>17.08</td>\n",
              "      <td>17.08</td>\n",
              "      <td>17.08</td>\n",
              "      <td>17.08</td>\n",
              "      <td>2520000.0</td>\n",
              "      <td>17.08</td>\n",
              "    </tr>\n",
              "  </tbody>\n",
              "</table>\n",
              "</div>"
            ],
            "text/plain": [
              "            Date   Open   High    Low  Close     Volume  Adj Close\n",
              "16589 1950-01-03  16.66  16.66  16.66  16.66  1260000.0      16.66\n",
              "16588 1950-01-04  16.85  16.85  16.85  16.85  1890000.0      16.85\n",
              "16587 1950-01-05  16.93  16.93  16.93  16.93  2550000.0      16.93\n",
              "16586 1950-01-06  16.98  16.98  16.98  16.98  2010000.0      16.98\n",
              "16585 1950-01-09  17.08  17.08  17.08  17.08  2520000.0      17.08"
            ]
          },
          "metadata": {
            "tags": []
          },
          "execution_count": 2
        }
      ]
    },
    {
      "cell_type": "code",
      "metadata": {
        "id": "gvo5pARBldDG",
        "colab_type": "code",
        "colab": {
          "base_uri": "https://localhost:8080/",
          "height": 360
        },
        "outputId": "7ccccf28-70c9-4c48-825b-d72447cfab22"
      },
      "source": [
        "# Add indicators that could be helpful for machine learning\n",
        "# Rolling mean will use the current day's price, therefore reindex (shift(-1))\n",
        "# Average/std price of the past 5, 30, 365 days\n",
        "def generate_indicator(col, window, func=\"mean\", shift=True):\n",
        "  try:\n",
        "    if func.lower() == \"mean\":\n",
        "      rolling_result = df[col].rolling(window).mean()\n",
        "    if func.lower() == \"std\":\n",
        "      rolling_result = df[col].rolling(window).std()\n",
        "    if func.lower() == \"sum\":\n",
        "      rolling_result = df[col].rolling(window).mean()\n",
        "  except:\n",
        "      print(\"Please input a valid function\")\n",
        "  if shift:\n",
        "    return rolling_result.shift(-1)\n",
        "  \n",
        "  return rolling_result\n",
        "\n",
        "for c in [\"Open\", \"Close\", \"Volume\", \"High\", \"Low\"]:\n",
        "  for w in [5, 30, 365]:\n",
        "    for f in [\"mean\", \"std\"]:\n",
        "      name = f.capitalize() + \" \" + str(w) + \" Days \" + c\n",
        "      df_sorted[name] = generate_indicator(c, w, f)\n",
        "\n",
        "df_sorted[\"Mean 5/30 Days High\"] = df_sorted[\"Mean 5 Days High\"]/df_sorted[\"Mean 30 Days High\"]\n",
        "df_sorted[\"Mean 5/30 Days Low\"] = df_sorted[\"Mean 5 Days Low\"]/df_sorted[\"Mean 30 Days Low\"]\n",
        "df_sorted[\"Mean 5/30 Days Volume\"] = df_sorted[\"Mean 5 Days Volume\"]/df_sorted[\"Mean 30 Days Volume\"]\n",
        "\n",
        "# Some indicators require year of historical data to compute (1951-01-03 onward)\n",
        "start_date = df_sorted[\"Date\"] >= datetime(year=1951, month=1, day=3)\n",
        "\n",
        "# Remove any rows from the DataFrame that fall before 1951-01-03\n",
        "df_sorted = df_sorted[start_date]\n",
        "df_sorted.dropna(axis=0, inplace=True)\n",
        "df_sorted.head()"
      ],
      "execution_count": 3,
      "outputs": [
        {
          "output_type": "execute_result",
          "data": {
            "text/html": [
              "<div>\n",
              "<style scoped>\n",
              "    .dataframe tbody tr th:only-of-type {\n",
              "        vertical-align: middle;\n",
              "    }\n",
              "\n",
              "    .dataframe tbody tr th {\n",
              "        vertical-align: top;\n",
              "    }\n",
              "\n",
              "    .dataframe thead th {\n",
              "        text-align: right;\n",
              "    }\n",
              "</style>\n",
              "<table border=\"1\" class=\"dataframe\">\n",
              "  <thead>\n",
              "    <tr style=\"text-align: right;\">\n",
              "      <th></th>\n",
              "      <th>Date</th>\n",
              "      <th>Open</th>\n",
              "      <th>High</th>\n",
              "      <th>Low</th>\n",
              "      <th>Close</th>\n",
              "      <th>Volume</th>\n",
              "      <th>Adj Close</th>\n",
              "      <th>Mean 5 Days Open</th>\n",
              "      <th>Std 5 Days Open</th>\n",
              "      <th>Mean 30 Days Open</th>\n",
              "      <th>Std 30 Days Open</th>\n",
              "      <th>Mean 365 Days Open</th>\n",
              "      <th>Std 365 Days Open</th>\n",
              "      <th>Mean 5 Days Close</th>\n",
              "      <th>Std 5 Days Close</th>\n",
              "      <th>Mean 30 Days Close</th>\n",
              "      <th>Std 30 Days Close</th>\n",
              "      <th>Mean 365 Days Close</th>\n",
              "      <th>Std 365 Days Close</th>\n",
              "      <th>Mean 5 Days Volume</th>\n",
              "      <th>Std 5 Days Volume</th>\n",
              "      <th>Mean 30 Days Volume</th>\n",
              "      <th>Std 30 Days Volume</th>\n",
              "      <th>Mean 365 Days Volume</th>\n",
              "      <th>Std 365 Days Volume</th>\n",
              "      <th>Mean 5 Days High</th>\n",
              "      <th>Std 5 Days High</th>\n",
              "      <th>Mean 30 Days High</th>\n",
              "      <th>Std 30 Days High</th>\n",
              "      <th>Mean 365 Days High</th>\n",
              "      <th>Std 365 Days High</th>\n",
              "      <th>Mean 5 Days Low</th>\n",
              "      <th>Std 5 Days Low</th>\n",
              "      <th>Mean 30 Days Low</th>\n",
              "      <th>Std 30 Days Low</th>\n",
              "      <th>Mean 365 Days Low</th>\n",
              "      <th>Std 365 Days Low</th>\n",
              "      <th>Mean 5/30 Days High</th>\n",
              "      <th>Mean 5/30 Days Low</th>\n",
              "      <th>Mean 5/30 Days Volume</th>\n",
              "    </tr>\n",
              "  </thead>\n",
              "  <tbody>\n",
              "    <tr>\n",
              "      <th>16339</th>\n",
              "      <td>1951-01-03</td>\n",
              "      <td>20.690001</td>\n",
              "      <td>20.690001</td>\n",
              "      <td>20.690001</td>\n",
              "      <td>20.690001</td>\n",
              "      <td>3370000.0</td>\n",
              "      <td>20.690001</td>\n",
              "      <td>20.840001</td>\n",
              "      <td>0.117047</td>\n",
              "      <td>21.432667</td>\n",
              "      <td>0.466468</td>\n",
              "      <td>22.814521</td>\n",
              "      <td>1.017104</td>\n",
              "      <td>20.840001</td>\n",
              "      <td>0.117047</td>\n",
              "      <td>21.432667</td>\n",
              "      <td>0.466468</td>\n",
              "      <td>22.814521</td>\n",
              "      <td>1.017104</td>\n",
              "      <td>3192000.0</td>\n",
              "      <td>276622.483656</td>\n",
              "      <td>2.832333e+06</td>\n",
              "      <td>560847.174252</td>\n",
              "      <td>1.583041e+06</td>\n",
              "      <td>681765.657914</td>\n",
              "      <td>20.840001</td>\n",
              "      <td>0.117047</td>\n",
              "      <td>21.432667</td>\n",
              "      <td>0.466468</td>\n",
              "      <td>22.814521</td>\n",
              "      <td>1.017104</td>\n",
              "      <td>20.840001</td>\n",
              "      <td>0.117047</td>\n",
              "      <td>21.432667</td>\n",
              "      <td>0.466468</td>\n",
              "      <td>22.814521</td>\n",
              "      <td>1.017104</td>\n",
              "      <td>0.972348</td>\n",
              "      <td>0.972348</td>\n",
              "      <td>1.126986</td>\n",
              "    </tr>\n",
              "    <tr>\n",
              "      <th>16338</th>\n",
              "      <td>1951-01-04</td>\n",
              "      <td>20.870001</td>\n",
              "      <td>20.870001</td>\n",
              "      <td>20.870001</td>\n",
              "      <td>20.870001</td>\n",
              "      <td>3390000.0</td>\n",
              "      <td>20.870001</td>\n",
              "      <td>20.910001</td>\n",
              "      <td>0.161090</td>\n",
              "      <td>21.477667</td>\n",
              "      <td>0.465452</td>\n",
              "      <td>22.824548</td>\n",
              "      <td>1.014932</td>\n",
              "      <td>20.910001</td>\n",
              "      <td>0.161090</td>\n",
              "      <td>21.477667</td>\n",
              "      <td>0.465452</td>\n",
              "      <td>22.824548</td>\n",
              "      <td>1.014932</td>\n",
              "      <td>3346000.0</td>\n",
              "      <td>364321.284671</td>\n",
              "      <td>2.799667e+06</td>\n",
              "      <td>577237.685854</td>\n",
              "      <td>1.578219e+06</td>\n",
              "      <td>677715.587862</td>\n",
              "      <td>20.910001</td>\n",
              "      <td>0.161090</td>\n",
              "      <td>21.477667</td>\n",
              "      <td>0.465452</td>\n",
              "      <td>22.824548</td>\n",
              "      <td>1.014932</td>\n",
              "      <td>20.910001</td>\n",
              "      <td>0.161090</td>\n",
              "      <td>21.477667</td>\n",
              "      <td>0.465452</td>\n",
              "      <td>22.824548</td>\n",
              "      <td>1.014932</td>\n",
              "      <td>0.973569</td>\n",
              "      <td>0.973569</td>\n",
              "      <td>1.195142</td>\n",
              "    </tr>\n",
              "    <tr>\n",
              "      <th>16337</th>\n",
              "      <td>1951-01-05</td>\n",
              "      <td>20.870001</td>\n",
              "      <td>20.870001</td>\n",
              "      <td>20.870001</td>\n",
              "      <td>20.870001</td>\n",
              "      <td>3390000.0</td>\n",
              "      <td>20.870001</td>\n",
              "      <td>20.942001</td>\n",
              "      <td>0.116060</td>\n",
              "      <td>21.521334</td>\n",
              "      <td>0.450209</td>\n",
              "      <td>22.835014</td>\n",
              "      <td>1.012553</td>\n",
              "      <td>20.942001</td>\n",
              "      <td>0.116060</td>\n",
              "      <td>21.521334</td>\n",
              "      <td>0.450209</td>\n",
              "      <td>22.835014</td>\n",
              "      <td>1.012553</td>\n",
              "      <td>3326000.0</td>\n",
              "      <td>365417.567262</td>\n",
              "      <td>2.744000e+06</td>\n",
              "      <td>600399.877279</td>\n",
              "      <td>1.572603e+06</td>\n",
              "      <td>671289.780975</td>\n",
              "      <td>20.942001</td>\n",
              "      <td>0.116060</td>\n",
              "      <td>21.521334</td>\n",
              "      <td>0.450209</td>\n",
              "      <td>22.835014</td>\n",
              "      <td>1.012553</td>\n",
              "      <td>20.942001</td>\n",
              "      <td>0.116060</td>\n",
              "      <td>21.521334</td>\n",
              "      <td>0.450209</td>\n",
              "      <td>22.835014</td>\n",
              "      <td>1.012553</td>\n",
              "      <td>0.973081</td>\n",
              "      <td>0.973081</td>\n",
              "      <td>1.212099</td>\n",
              "    </tr>\n",
              "    <tr>\n",
              "      <th>16336</th>\n",
              "      <td>1951-01-08</td>\n",
              "      <td>21.000000</td>\n",
              "      <td>21.000000</td>\n",
              "      <td>21.000000</td>\n",
              "      <td>21.000000</td>\n",
              "      <td>2780000.0</td>\n",
              "      <td>21.000000</td>\n",
              "      <td>21.006001</td>\n",
              "      <td>0.149767</td>\n",
              "      <td>21.563333</td>\n",
              "      <td>0.446104</td>\n",
              "      <td>22.845206</td>\n",
              "      <td>1.011441</td>\n",
              "      <td>21.006001</td>\n",
              "      <td>0.149767</td>\n",
              "      <td>21.563333</td>\n",
              "      <td>0.446104</td>\n",
              "      <td>22.845206</td>\n",
              "      <td>1.011441</td>\n",
              "      <td>3346000.0</td>\n",
              "      <td>372464.761372</td>\n",
              "      <td>2.693000e+06</td>\n",
              "      <td>608560.493876</td>\n",
              "      <td>1.566575e+06</td>\n",
              "      <td>664771.920062</td>\n",
              "      <td>21.006001</td>\n",
              "      <td>0.149767</td>\n",
              "      <td>21.563333</td>\n",
              "      <td>0.446104</td>\n",
              "      <td>22.845206</td>\n",
              "      <td>1.011441</td>\n",
              "      <td>21.006001</td>\n",
              "      <td>0.149767</td>\n",
              "      <td>21.563333</td>\n",
              "      <td>0.446104</td>\n",
              "      <td>22.845206</td>\n",
              "      <td>1.011441</td>\n",
              "      <td>0.974154</td>\n",
              "      <td>0.974154</td>\n",
              "      <td>1.242481</td>\n",
              "    </tr>\n",
              "    <tr>\n",
              "      <th>16335</th>\n",
              "      <td>1951-01-09</td>\n",
              "      <td>21.120001</td>\n",
              "      <td>21.120001</td>\n",
              "      <td>21.120001</td>\n",
              "      <td>21.120001</td>\n",
              "      <td>3800000.0</td>\n",
              "      <td>21.120001</td>\n",
              "      <td>21.054001</td>\n",
              "      <td>0.132779</td>\n",
              "      <td>21.595333</td>\n",
              "      <td>0.428749</td>\n",
              "      <td>22.855315</td>\n",
              "      <td>1.010084</td>\n",
              "      <td>21.054001</td>\n",
              "      <td>0.132778</td>\n",
              "      <td>21.595333</td>\n",
              "      <td>0.428749</td>\n",
              "      <td>22.855315</td>\n",
              "      <td>1.010084</td>\n",
              "      <td>3258000.0</td>\n",
              "      <td>409597.361398</td>\n",
              "      <td>2.643667e+06</td>\n",
              "      <td>610096.008079</td>\n",
              "      <td>1.560575e+06</td>\n",
              "      <td>658118.907883</td>\n",
              "      <td>21.054001</td>\n",
              "      <td>0.132778</td>\n",
              "      <td>21.595333</td>\n",
              "      <td>0.428749</td>\n",
              "      <td>22.855315</td>\n",
              "      <td>1.010084</td>\n",
              "      <td>21.054001</td>\n",
              "      <td>0.132778</td>\n",
              "      <td>21.595333</td>\n",
              "      <td>0.428749</td>\n",
              "      <td>22.855315</td>\n",
              "      <td>1.010084</td>\n",
              "      <td>0.974933</td>\n",
              "      <td>0.974933</td>\n",
              "      <td>1.232379</td>\n",
              "    </tr>\n",
              "  </tbody>\n",
              "</table>\n",
              "</div>"
            ],
            "text/plain": [
              "            Date       Open  ...  Mean 5/30 Days Low  Mean 5/30 Days Volume\n",
              "16339 1951-01-03  20.690001  ...            0.972348               1.126986\n",
              "16338 1951-01-04  20.870001  ...            0.973569               1.195142\n",
              "16337 1951-01-05  20.870001  ...            0.973081               1.212099\n",
              "16336 1951-01-08  21.000000  ...            0.974154               1.242481\n",
              "16335 1951-01-09  21.120001  ...            0.974933               1.232379\n",
              "\n",
              "[5 rows x 40 columns]"
            ]
          },
          "metadata": {
            "tags": []
          },
          "execution_count": 3
        }
      ]
    },
    {
      "cell_type": "code",
      "metadata": {
        "id": "GFz32szUYXT0",
        "colab_type": "code",
        "colab": {}
      },
      "source": [
        "# Find the columns that are highly correlated with the output\n",
        "close_corr = df_sorted.corr()[\"Close\"].abs().sort_values(ascending=False)\n",
        "high_corr = list(close_corr[close_corr >= .3].index)\n",
        "\n",
        "# Create correlation matrix\n",
        "corr_matrix = df_sorted[high_corr].corr().abs()\n",
        "\n",
        "# Select upper triangle of correlation matrix\n",
        "upper = corr_matrix.where(np.triu(np.ones(corr_matrix.shape), k=1).astype(np.bool))\n",
        "\n",
        "# Find index of feature columns with correlation greater than 0.95\n",
        "to_drop = [column for column in upper.columns if any(upper[column] > 0.95)]\n",
        "\n",
        "# Drop features\n",
        "df_indicators = df_sorted[high_corr].drop(df_sorted[to_drop], axis=1)"
      ],
      "execution_count": 0,
      "outputs": []
    },
    {
      "cell_type": "code",
      "metadata": {
        "id": "Zl1JD8iaYXT5",
        "colab_type": "code",
        "outputId": "fd17713b-bf97-4fec-dbfd-c299a6f34482",
        "colab": {
          "base_uri": "https://localhost:8080/",
          "height": 395
        }
      },
      "source": [
        "import seaborn as sns\n",
        "%matplotlib inline\n",
        "\n",
        "sns.heatmap(df_indicators.corr())"
      ],
      "execution_count": 5,
      "outputs": [
        {
          "output_type": "execute_result",
          "data": {
            "text/plain": [
              "<matplotlib.axes._subplots.AxesSubplot at 0x7f84348ea9b0>"
            ]
          },
          "metadata": {
            "tags": []
          },
          "execution_count": 5
        },
        {
          "output_type": "display_data",
          "data": {
            "image/png": "[encoded data removed]",
            "text/plain": [
              "<Figure size 432x288 with 2 Axes>"
            ]
          },
          "metadata": {
            "tags": []
          }
        }
      ]
    },
    {
      "cell_type": "code",
      "metadata": {
        "id": "0XMRZpYw8bfC",
        "colab_type": "code",
        "colab": {}
      },
      "source": [
        "# Remove columns that inject future knowledge\n",
        "future_knowledge_cols = [\"High\", \"Low\", \"Open\", \"Volume\", \"Adj Close\"]\n",
        "for col in future_knowledge_cols:\n",
        "  if col in df_indicators.columns:\n",
        "    df_indicators.drop(col, axis=1, inplace=True)\n",
        "\n",
        "# Add the year component of the date\n",
        "df_indicators[\"year_label\"] = df_sorted[\"Date\"].apply(lambda x: datetime.strftime(x, \"%Y\"))\n",
        "df_indicators[\"month_label\"] = df_sorted[\"Date\"].apply(lambda x: int(datetime.strftime(x, \"%m\")))\n",
        "df_indicators[\"day_label\"] = df_sorted[\"Date\"].apply(lambda x: int(datetime.strftime(x, \"%d\")))\n",
        "df_indicators[\"Date\"] = df_sorted[\"Date\"]"
      ],
      "execution_count": 0,
      "outputs": []
    },
    {
      "cell_type": "code",
      "metadata": {
        "id": "iDvUTOU6BW3J",
        "colab_type": "code",
        "colab": {}
      },
      "source": [
        "# train_end_date = (df_indicators[\"year_label\"].astype('int') < 2013) & (df_indicators[\"month_label\"].astype(\"int\") < 1) & (df_indicators[\"day_label\"].astype('int') < 1)\n",
        "# test_start_date = (df_indicators[\"year_label\"].astype('int') < 2013) & (df_indicators[\"month_label\"].astype(\"int\") < 1) & (df_indicators[\"day_label\"].astype('int') < 1)\n",
        "\n",
        "# df_sorted[train_end_date]"
      ],
      "execution_count": 0,
      "outputs": []
    },
    {
      "cell_type": "code",
      "metadata": {
        "id": "S8Q2OC3TYXT9",
        "colab_type": "code",
        "colab": {}
      },
      "source": [
        "train_end_date = df_indicators[\"Date\"] < datetime(year=2013, month=1, day=1)\n",
        "test_start_date = df_indicators[\"Date\"] >= datetime(year=2013, month=1, day=1)\n",
        "\n",
        "train = df_indicators[train_end_date]\n",
        "test = df_indicators[test_start_date]\n",
        "train_target = train[\"Close\"]\n",
        "test_target = test[\"Close\"]\n",
        "\n",
        "# remove columns that inject future knowledge\n",
        "predictors = list(train.columns)\n",
        "predictors.remove(\"Date\")\n",
        "predictors.remove(\"Close\")"
      ],
      "execution_count": 0,
      "outputs": []
    },
    {
      "cell_type": "markdown",
      "metadata": {
        "id": "qhlcKRn0YXUA",
        "colab_type": "text"
      },
      "source": [
        "### Error Metric\n",
        "Use MAE to show how \"close\" we are to the price in intuitive terms"
      ]
    },
    {
      "cell_type": "code",
      "metadata": {
        "id": "i2r-8SbFYXUB",
        "colab_type": "code",
        "outputId": "97746d39-1aab-4616-ab25-a9ca42cef06b",
        "colab": {}
      },
      "source": [
        "from sklearn.linear_model import LinearRegression\n",
        "from sklearn.metrics import mean_absolute_error\n",
        "from sklearn.metrics import mean_squared_error\n",
        "\n",
        "lr = LinearRegression()\n",
        "lr.fit(train[predictors], train_target)\n",
        "lr_train_predictions = lr.predict(train[predictors])\n",
        "lr_test_predictions = lr.predict(test[predictors])"
      ],
      "execution_count": 0,
      "outputs": [
        {
          "output_type": "stream",
          "text": [
            "/Library/Frameworks/Python.framework/Versions/3.5/lib/python3.5/site-packages/scipy/linalg/basic.py:1226: RuntimeWarning: internal gelsd driver lwork query error, required iwork dimension not returned. This is likely the result of LAPACK bug 0038, fixed in LAPACK 3.2.2 (released July 21, 2010). Falling back to 'gelss' driver.\n",
            "  warnings.warn(mesg, RuntimeWarning)\n"
          ],
          "name": "stderr"
        }
      ]
    },
    {
      "cell_type": "code",
      "metadata": {
        "id": "ClrCAfjhYXUE",
        "colab_type": "code",
        "outputId": "96b81d24-b261-4aa0-fd5b-d057dfd25f90",
        "colab": {}
      },
      "source": [
        "print(mean_absolute_error(train_target, lr_train_predictions))\n",
        "print(mean_absolute_error(test_target, lr_test_predictions))"
      ],
      "execution_count": 0,
      "outputs": [
        {
          "output_type": "stream",
          "text": [
            "2.273771072337667\n",
            "6.955570908236561\n"
          ],
          "name": "stdout"
        }
      ]
    },
    {
      "cell_type": "code",
      "metadata": {
        "id": "Cyx5RkGQYXUJ",
        "colab_type": "code",
        "colab": {}
      },
      "source": [
        "from sklearn.ensemble import RandomForestRegressor\n",
        "\n",
        "rf = RandomForestRegressor(min_samples_leaf=5)\n",
        "rf.fit(train[predictors], train_target)\n",
        "rf_train_predictions = rf.predict(train[predictors])\n",
        "rf_test_predictions = rf.predict(test[predictors])"
      ],
      "execution_count": 0,
      "outputs": []
    },
    {
      "cell_type": "code",
      "metadata": {
        "id": "na7sPAqsYXUM",
        "colab_type": "code",
        "outputId": "fc124860-5085-46e0-f580-96d2849cfd62",
        "colab": {}
      },
      "source": [
        "# rf overfitting due to the small dataset\n",
        "print(mean_absolute_error(train_target,rf_train_predictions))\n",
        "print(mean_absolute_error(test_target,rf_test_predictions))"
      ],
      "execution_count": 0,
      "outputs": [
        {
          "output_type": "stream",
          "text": [
            "1.7497170058800895\n",
            "330.56019965925344\n"
          ],
          "name": "stdout"
        }
      ]
    },
    {
      "cell_type": "code",
      "metadata": {
        "id": "p99HLsrEYXUQ",
        "colab_type": "code",
        "outputId": "e1db24a6-c232-4213-b4e0-38d59142ff7d",
        "colab": {}
      },
      "source": [
        "import keras\n",
        "from keras import layers\n",
        "\n",
        "def build_model():\n",
        "    model = keras.Sequential([\n",
        "    layers.Dense(128, activation='relu', input_shape=[len(train[predictors].keys())]),\n",
        "    layers.Dense(128, activation='relu'),\n",
        "    layers.Dense(64, activation='relu'),    \n",
        "    layers.Dense(1)\n",
        "  ])\n",
        "\n",
        "    optimizer = keras.optimizers.RMSprop(0.001)\n",
        "\n",
        "    model.compile(loss='mse',\n",
        "                optimizer=optimizer,\n",
        "                metrics=['mae', 'mse'])\n",
        "    return model"
      ],
      "execution_count": 0,
      "outputs": [
        {
          "output_type": "stream",
          "text": [
            "Using TensorFlow backend.\n"
          ],
          "name": "stderr"
        }
      ]
    },
    {
      "cell_type": "code",
      "metadata": {
        "id": "D90vfFiKYXUT",
        "colab_type": "code",
        "outputId": "eae3e23b-b4c6-42d8-d457-d6e796e7fc46",
        "colab": {}
      },
      "source": [
        "model = build_model()\n",
        "model.summary()"
      ],
      "execution_count": 0,
      "outputs": [
        {
          "output_type": "stream",
          "text": [
            "_________________________________________________________________\n",
            "Layer (type)                 Output Shape              Param #   \n",
            "=================================================================\n",
            "dense_1 (Dense)              (None, 128)               2432      \n",
            "_________________________________________________________________\n",
            "dense_2 (Dense)              (None, 128)               16512     \n",
            "_________________________________________________________________\n",
            "dense_3 (Dense)              (None, 64)                8256      \n",
            "_________________________________________________________________\n",
            "dense_4 (Dense)              (None, 1)                 65        \n",
            "=================================================================\n",
            "Total params: 27,265\n",
            "Trainable params: 27,265\n",
            "Non-trainable params: 0\n",
            "_________________________________________________________________\n"
          ],
          "name": "stdout"
        }
      ]
    },
    {
      "cell_type": "code",
      "metadata": {
        "id": "Q7nQ3P8SYXUW",
        "colab_type": "code",
        "outputId": "418da3d1-b8bb-418b-d225-b1498a53fe4c",
        "colab": {}
      },
      "source": [
        "example_batch = train[predictors][:10]\n",
        "example_result = model.predict(example_batch)\n",
        "example_result"
      ],
      "execution_count": 0,
      "outputs": [
        {
          "output_type": "execute_result",
          "data": {
            "text/plain": [
              "array([[132720.14 ],\n",
              "       [129898.945],\n",
              "       [130784.21 ],\n",
              "       [125337.56 ],\n",
              "       [124342.22 ],\n",
              "       [161453.27 ],\n",
              "       [164678.16 ],\n",
              "       [169755.03 ],\n",
              "       [184184.11 ],\n",
              "       [189447.06 ]], dtype=float32)"
            ]
          },
          "metadata": {
            "tags": []
          },
          "execution_count": 19
        }
      ]
    },
    {
      "cell_type": "code",
      "metadata": {
        "id": "bybqmNnyYXUb",
        "colab_type": "code",
        "outputId": "61fedcb1-1738-4564-9a99-157ed6cd4920",
        "colab": {}
      },
      "source": [
        "# Display training progress by printing a single dot for each completed epoch\n",
        "class PrintDot(keras.callbacks.Callback):\n",
        "    def on_epoch_end(self, epoch, logs):\n",
        "        if epoch % 100 == 0: print('')\n",
        "        print('.', end='')\n",
        "\n",
        "EPOCHS = 100\n",
        "\n",
        "history = model.fit(\n",
        "  train[predictors], train_target,\n",
        "  epochs=EPOCHS, validation_split = 0.2, verbose=0,\n",
        "  callbacks=[PrintDot()])"
      ],
      "execution_count": 0,
      "outputs": [
        {
          "output_type": "stream",
          "text": [
            "\n",
            "....."
          ],
          "name": "stdout"
        }
      ]
    },
    {
      "cell_type": "code",
      "metadata": {
        "id": "BPSDd65KYXUf",
        "colab_type": "code",
        "outputId": "005360a0-d6e7-4e67-ecf1-2b97360356e3",
        "colab": {}
      },
      "source": [
        "hist = pd.DataFrame(history.history)\n",
        "hist['epoch'] = history.epoch\n",
        "hist.tail()"
      ],
      "execution_count": 0,
      "outputs": [
        {
          "output_type": "execute_result",
          "data": {
            "text/html": [
              "<div>\n",
              "<style scoped>\n",
              "    .dataframe tbody tr th:only-of-type {\n",
              "        vertical-align: middle;\n",
              "    }\n",
              "\n",
              "    .dataframe tbody tr th {\n",
              "        vertical-align: top;\n",
              "    }\n",
              "\n",
              "    .dataframe thead th {\n",
              "        text-align: right;\n",
              "    }\n",
              "</style>\n",
              "<table border=\"1\" class=\"dataframe\">\n",
              "  <thead>\n",
              "    <tr style=\"text-align: right;\">\n",
              "      <th></th>\n",
              "      <th>loss</th>\n",
              "      <th>mean_absolute_error</th>\n",
              "      <th>mean_squared_error</th>\n",
              "      <th>val_loss</th>\n",
              "      <th>val_mean_absolute_error</th>\n",
              "      <th>val_mean_squared_error</th>\n",
              "      <th>epoch</th>\n",
              "    </tr>\n",
              "  </thead>\n",
              "  <tbody>\n",
              "    <tr>\n",
              "      <th>0</th>\n",
              "      <td>93902.891667</td>\n",
              "      <td>210.938276</td>\n",
              "      <td>93902.891667</td>\n",
              "      <td>1.194041e+13</td>\n",
              "      <td>215223.461925</td>\n",
              "      <td>1.194041e+13</td>\n",
              "      <td>0</td>\n",
              "    </tr>\n",
              "    <tr>\n",
              "      <th>1</th>\n",
              "      <td>93909.577585</td>\n",
              "      <td>209.972323</td>\n",
              "      <td>93909.577585</td>\n",
              "      <td>1.192214e+13</td>\n",
              "      <td>215060.412725</td>\n",
              "      <td>1.192214e+13</td>\n",
              "      <td>1</td>\n",
              "    </tr>\n",
              "    <tr>\n",
              "      <th>2</th>\n",
              "      <td>93905.564196</td>\n",
              "      <td>210.237281</td>\n",
              "      <td>93905.564196</td>\n",
              "      <td>1.193223e+13</td>\n",
              "      <td>215150.489809</td>\n",
              "      <td>1.193223e+13</td>\n",
              "      <td>2</td>\n",
              "    </tr>\n",
              "    <tr>\n",
              "      <th>3</th>\n",
              "      <td>93905.534736</td>\n",
              "      <td>210.312423</td>\n",
              "      <td>93905.534736</td>\n",
              "      <td>1.195304e+13</td>\n",
              "      <td>215336.056621</td>\n",
              "      <td>1.195304e+13</td>\n",
              "      <td>3</td>\n",
              "    </tr>\n",
              "    <tr>\n",
              "      <th>4</th>\n",
              "      <td>93904.725726</td>\n",
              "      <td>210.419885</td>\n",
              "      <td>93904.725726</td>\n",
              "      <td>1.195828e+13</td>\n",
              "      <td>215382.767723</td>\n",
              "      <td>1.195828e+13</td>\n",
              "      <td>4</td>\n",
              "    </tr>\n",
              "  </tbody>\n",
              "</table>\n",
              "</div>"
            ],
            "text/plain": [
              "           loss  mean_absolute_error  mean_squared_error      val_loss  \\\n",
              "0  93902.891667           210.938276        93902.891667  1.194041e+13   \n",
              "1  93909.577585           209.972323        93909.577585  1.192214e+13   \n",
              "2  93905.564196           210.237281        93905.564196  1.193223e+13   \n",
              "3  93905.534736           210.312423        93905.534736  1.195304e+13   \n",
              "4  93904.725726           210.419885        93904.725726  1.195828e+13   \n",
              "\n",
              "   val_mean_absolute_error  val_mean_squared_error  epoch  \n",
              "0            215223.461925            1.194041e+13      0  \n",
              "1            215060.412725            1.192214e+13      1  \n",
              "2            215150.489809            1.193223e+13      2  \n",
              "3            215336.056621            1.195304e+13      3  \n",
              "4            215382.767723            1.195828e+13      4  "
            ]
          },
          "metadata": {
            "tags": []
          },
          "execution_count": 26
        }
      ]
    },
    {
      "cell_type": "code",
      "metadata": {
        "id": "TSDPijkyYXUi",
        "colab_type": "code",
        "outputId": "25f71508-1233-4c5e-985e-585060993501",
        "colab": {}
      },
      "source": [
        "import matplotlib.pyplot as plt\n",
        "\n",
        "def plot_history(history):\n",
        "    hist = pd.DataFrame(history.history)\n",
        "    hist['epoch'] = history.epoch\n",
        "\n",
        "    plt.figure()\n",
        "    plt.xlabel('Epoch')\n",
        "    plt.ylabel('Mean Abs Error [MPG]')\n",
        "    plt.plot(hist['epoch'], hist['mean_absolute_error'], label='Train Error')\n",
        "    plt.plot(hist['epoch'], hist['val_mean_absolute_error'],\n",
        "           label = 'Val Error')\n",
        "#     plt.ylim([0,5])\n",
        "    plt.legend()\n",
        "\n",
        "    plt.figure()\n",
        "    plt.xlabel('Epoch')\n",
        "    plt.ylabel('Mean Square Error [$MPG^2$]')\n",
        "    plt.plot(hist['epoch'], hist['mean_squared_error'],\n",
        "           label='Train Error')\n",
        "    plt.plot(hist['epoch'], hist['val_mean_squared_error'],\n",
        "           label = 'Val Error')\n",
        "#     plt.ylim([0,20])\n",
        "    plt.legend()\n",
        "    plt.show()\n",
        "\n",
        "\n",
        "plot_history(history)"
      ],
      "execution_count": 0,
      "outputs": [
        {
          "output_type": "display_data",
          "data": {
            "image/png": "[encoded data removed]",
            "text/plain": [
              "<matplotlib.figure.Figure at 0x121b18d30>"
            ]
          },
          "metadata": {
            "tags": []
          }
        },
        {
          "output_type": "display_data",
          "data": {
            "image/png": "[encoded data removed]",
            "text/plain": [
              "<matplotlib.figure.Figure at 0x12286d2e8>"
            ]
          },
          "metadata": {
            "tags": []
          }
        }
      ]
    },
    {
      "cell_type": "code",
      "metadata": {
        "id": "Fv3zMDLHYXUl",
        "colab_type": "code",
        "outputId": "de81e352-2d80-44ca-9c65-49a1707e1dc8",
        "colab": {}
      },
      "source": [
        "nn_test_predictions = model.predict(test[predictors]).flatten()\n",
        "nn_train_predictions = model.predict(train[predictors]).flatten()\n",
        "\n",
        "a = plt.axes(aspect='equal')\n",
        "plt.scatter(test_target, nn_test_predictions)\n",
        "plt.xlabel('True Values [MPG]')\n",
        "plt.ylabel('Predictions [MPG]')\n",
        "lims = [0, 50]\n",
        "plt.xlim(lims)\n",
        "plt.ylim(lims)\n",
        "_ = plt.plot(lims, lims)"
      ],
      "execution_count": 0,
      "outputs": [
        {
          "output_type": "display_data",
          "data": {
            "image/png": "[encoded data removed]",
            "text/plain": [
              "<matplotlib.figure.Figure at 0x120281d30>"
            ]
          },
          "metadata": {
            "tags": []
          }
        }
      ]
    },
    {
      "cell_type": "code",
      "metadata": {
        "id": "TdGkGtkuYXUp",
        "colab_type": "code",
        "outputId": "7a2fb1d2-4513-4545-8bc5-46e2541519e8",
        "colab": {}
      },
      "source": [
        "print(mean_absolute_error(train_target, nn_train_predictions))\n",
        "print(mean_absolute_error(test_target, nn_test_predictions))"
      ],
      "execution_count": 0,
      "outputs": [
        {
          "output_type": "stream",
          "text": [
            "43250.42878999707\n",
            "1639.2396120969997\n"
          ],
          "name": "stdout"
        }
      ]
    },
    {
      "cell_type": "code",
      "metadata": {
        "id": "iDY35OCiYXUt",
        "colab_type": "code",
        "colab": {}
      },
      "source": [
        "21"
      ],
      "execution_count": 0,
      "outputs": []
    }
  ]
}